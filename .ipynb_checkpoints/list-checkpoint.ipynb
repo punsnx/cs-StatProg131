{
 "cells": [
  {
   "cell_type": "markdown",
   "id": "2484fb9e-8a71-45ce-a278-b3b6f6b41adc",
   "metadata": {},
   "source": [
    "# <span style=\"color:#DE1509\">List</span>\n",
    "##\n",
    "#### <span style=\"color:#2e9c14\"><i>What Is a List?</i></span>\n",
    "\n",
    "A list is a collection of items in a particular order. You can make a list that includes the letters of the alphabet, the digits from 0–9, or the names of all the people in your family. You can put anything you want into a list, and the items in your list don’t have to be related in any particular way. Because a list usually contains more than one element, it’s a good idea to make the name of your list plural, such as letters, digits, or names.\n",
    "\n",
    "In Python, square brackets ([ ]) indicate a list, and individual elements in the list are separated by commas. Here’s a simple example of a list that contains a few kinds of fruits:"
   ]
  },
  {
   "cell_type": "code",
   "execution_count": 34,
   "id": "141dbc8d-a02c-4f44-9dd0-9d1e49887ad4",
   "metadata": {},
   "outputs": [],
   "source": [
    "fruits = [\"apple\", \"banana\", \"orange\", \"mango\"]"
   ]
  },
  {
   "cell_type": "markdown",
   "id": "e6ea60ec-9c32-4ef0-9bc4-292638d1735e",
   "metadata": {},
   "source": [
    "When print  a list, Python returns its representation of the list, including the square brackets"
   ]
  },
  {
   "cell_type": "code",
   "execution_count": 2,
   "id": "9b0cb2b4-c873-4b33-8f17-97776302033e",
   "metadata": {},
   "outputs": [
    {
     "name": "stdout",
     "output_type": "stream",
     "text": [
      "['apple', 'banana', 'orange', 'mango']\n"
     ]
    }
   ],
   "source": [
    "print(fruits)"
   ]
  },
  {
   "cell_type": "code",
   "execution_count": 3,
   "id": "7388231d-1c83-4aef-abb4-c1ac26a3d36b",
   "metadata": {},
   "outputs": [
    {
     "data": {
      "text/plain": [
       "list"
      ]
     },
     "execution_count": 3,
     "metadata": {},
     "output_type": "execute_result"
    }
   ],
   "source": [
    "type(fruits)"
   ]
  },
  {
   "cell_type": "code",
   "execution_count": 35,
   "id": "aac5f699-bd9e-415b-b7e3-a680811ac483",
   "metadata": {},
   "outputs": [
    {
     "name": "stdout",
     "output_type": "stream",
     "text": [
      "[12, 45, 60, 25, 31]\n"
     ]
    }
   ],
   "source": [
    "ages = [12, 45, 60, 25, 31]\n",
    "print(ages)"
   ]
  },
  {
   "cell_type": "markdown",
   "id": "ab83d1d5-985e-46d8-8be3-b9014bfe4401",
   "metadata": {},
   "source": [
    "### \n",
    "#### <span style=\"color:#2e9c14\"><i>Accessing Elements in a List</i></span>\n",
    "\n",
    "Lists are ordered collections, so you can access any element in a list by telling Python the position, or <u>index</u>, of the item desired. \n",
    "\n",
    "To access an element in a list, write the name of the list followed by the <u>index</u> of the item enclosed in square brackets."
   ]
  },
  {
   "cell_type": "code",
   "execution_count": 36,
   "id": "59e230ab-c1c7-4425-9673-50f038cf6379",
   "metadata": {},
   "outputs": [],
   "source": [
    "ages = [12, 45, 60, 25, 31]"
   ]
  },
  {
   "cell_type": "code",
   "execution_count": 37,
   "id": "31bae915-1e91-4fa0-b704-46b394d40e37",
   "metadata": {},
   "outputs": [
    {
     "name": "stdout",
     "output_type": "stream",
     "text": [
      "12\n",
      "45\n"
     ]
    }
   ],
   "source": [
    "print(ages[0])  #12\n",
    "print(ages[1])  #45"
   ]
  },
  {
   "cell_type": "code",
   "execution_count": 4,
   "id": "cf116ec6-d780-4ccd-a125-c9a9d4af7ef7",
   "metadata": {},
   "outputs": [
    {
     "data": {
      "text/plain": [
       "[12, 45]"
      ]
     },
     "execution_count": 4,
     "metadata": {},
     "output_type": "execute_result"
    }
   ],
   "source": [
    "ages[0:2]"
   ]
  },
  {
   "cell_type": "code",
   "execution_count": 6,
   "id": "fde38f19-85d1-4e9c-b547-d568b78a152a",
   "metadata": {},
   "outputs": [
    {
     "data": {
      "text/plain": [
       "[12, 45, 60, 25, 31]"
      ]
     },
     "execution_count": 6,
     "metadata": {},
     "output_type": "execute_result"
    }
   ],
   "source": [
    "ages[:]"
   ]
  },
  {
   "cell_type": "code",
   "execution_count": 5,
   "id": "5b0abb9e-f912-45cb-979c-4c1dd8fe4aaa",
   "metadata": {},
   "outputs": [
    {
     "ename": "SyntaxError",
     "evalue": "invalid syntax (2818491178.py, line 1)",
     "output_type": "error",
     "traceback": [
      "\u001b[0;36m  Cell \u001b[0;32mIn[5], line 1\u001b[0;36m\u001b[0m\n\u001b[0;31m    ages[]\u001b[0m\n\u001b[0m         ^\u001b[0m\n\u001b[0;31mSyntaxError\u001b[0m\u001b[0;31m:\u001b[0m invalid syntax\n"
     ]
    }
   ],
   "source": [
    "ages[]"
   ]
  },
  {
   "cell_type": "code",
   "execution_count": 7,
   "id": "fa07ac09-d55b-4c67-b347-ed84ac13a8de",
   "metadata": {},
   "outputs": [
    {
     "data": {
      "text/plain": [
       "[45, 60, 25, 31]"
      ]
     },
     "execution_count": 7,
     "metadata": {},
     "output_type": "execute_result"
    }
   ],
   "source": [
    "ages[1:] #ages[1:5]"
   ]
  },
  {
   "cell_type": "code",
   "execution_count": 8,
   "id": "92ad8a79-c2c1-49be-bbcc-a44ad998b302",
   "metadata": {},
   "outputs": [
    {
     "data": {
      "text/plain": [
       "[12, 45, 60]"
      ]
     },
     "execution_count": 8,
     "metadata": {},
     "output_type": "execute_result"
    }
   ],
   "source": [
    "ages[:3] #ages[0:3]"
   ]
  },
  {
   "cell_type": "code",
   "execution_count": 6,
   "id": "2cebcdae-496b-4dd2-96e8-2ca1ccd1678b",
   "metadata": {},
   "outputs": [
    {
     "name": "stdout",
     "output_type": "stream",
     "text": [
      "I love to eat apple\n"
     ]
    }
   ],
   "source": [
    "fruits = [\"apple\", \"banana\", \"orange\", \"mango\"]\n",
    "message = f\"I love to eat {fruits[0]}\"\n",
    "print(message)"
   ]
  },
  {
   "cell_type": "code",
   "execution_count": 38,
   "id": "6b5e9abf-0457-4fcb-8d2a-ad3530f76783",
   "metadata": {},
   "outputs": [
    {
     "name": "stdout",
     "output_type": "stream",
     "text": [
      "I love to eat MANGO\n"
     ]
    }
   ],
   "source": [
    "message = f\"I love to eat {fruits[3].upper()}\"  #use function upper() on an element of a list\n",
    "print(message)"
   ]
  },
  {
   "cell_type": "markdown",
   "id": "a8ae3cc9-fe9f-45d7-a59b-e14f0b543305",
   "metadata": {
    "tags": []
   },
   "source": [
    "####  \n",
    "##### <span style=\"color:#029DA3\"><u>Index Positions Start at 0, Not 1</u></span>"
   ]
  },
  {
   "cell_type": "markdown",
   "id": "be77dc87-a027-420d-8c82-d0ffada0cb17",
   "metadata": {},
   "source": [
    "Python considers the first item in a list to be at position 0, not position 1. This is true of most programming languages, and the reason has to do with how the list operations are implemented at a lower level. If you’re receiving unexpected results, determine whether you are making a simple off-by-one error.\n",
    "\n",
    "The second item in a list has an index of 1. Using this counting system, you can get any element you want from a list by subtracting one from its position in the list. For instance, to access the fourth item in a list, you request the item at index 3."
   ]
  },
  {
   "cell_type": "code",
   "execution_count": 6,
   "id": "ed648194-987f-429b-9951-40d0816f4b5e",
   "metadata": {},
   "outputs": [
    {
     "name": "stdout",
     "output_type": "stream",
     "text": [
      "banana\n",
      "mango\n"
     ]
    }
   ],
   "source": [
    "fruits = [\"apple\", \"banana\", \"orange\", \"mango\"]\n",
    "print(fruits[1])\n",
    "print(fruits[3])"
   ]
  },
  {
   "cell_type": "code",
   "execution_count": 7,
   "id": "bd23c858-b471-433e-ae64-ae3f5f5e49ac",
   "metadata": {
    "tags": []
   },
   "outputs": [
    {
     "data": {
      "text/plain": [
       "4"
      ]
     },
     "execution_count": 7,
     "metadata": {},
     "output_type": "execute_result"
    }
   ],
   "source": [
    "len(fruits)"
   ]
  },
  {
   "cell_type": "code",
   "execution_count": 8,
   "id": "78319638-9110-4d48-a55c-bb7dc9020fb5",
   "metadata": {},
   "outputs": [
    {
     "name": "stdout",
     "output_type": "stream",
     "text": [
      "apple\n",
      "mango\n"
     ]
    }
   ],
   "source": [
    "print(fruits[0])\n",
    "print(fruits[3])"
   ]
  },
  {
   "cell_type": "markdown",
   "id": "08aa5c90-ce5b-4a19-a486-b0849347482b",
   "metadata": {},
   "source": [
    "\\\n",
    "At index -1, Python always returns the last item in the list.\n",
    "\n",
    "The index -2 returns the second item from the end of the list, the index -3 returns the third item from the end, and so forth.\n"
   ]
  },
  {
   "cell_type": "code",
   "execution_count": 9,
   "id": "4b922ee6-7642-43f9-acbe-729d020ddfbf",
   "metadata": {},
   "outputs": [
    {
     "name": "stdout",
     "output_type": "stream",
     "text": [
      "mango\n",
      "orange\n",
      "banana\n"
     ]
    }
   ],
   "source": [
    "print(fruits[-1])\n",
    "print(fruits[-2])\n",
    "print(fruits[-3])"
   ]
  },
  {
   "cell_type": "markdown",
   "id": "7e58201d-9d61-4994-b94f-4707a60ca832",
   "metadata": {},
   "source": [
    "##\n",
    "#### <span style=\"color:#2e9c14\"><i>Modifying Elements in a List</i></span>\n",
    "The syntax for modifying an element is similar to the syntax for accessing an element in a list. To change an element, use the name of the list followed by the index of the element you want to change, and then provide the new value you want that item to have.\n"
   ]
  },
  {
   "cell_type": "code",
   "execution_count": 10,
   "id": "c6ac29d2-baa0-42e4-88b2-6c42bd656b60",
   "metadata": {},
   "outputs": [
    {
     "name": "stdout",
     "output_type": "stream",
     "text": [
      "['apricot', 'banana', 'orange', 'mango']\n"
     ]
    }
   ],
   "source": [
    "fruits = [\"apple\", \"banana\", \"orange\", \"mango\"]\n",
    "fruits[0] = \"apricot\"\n",
    "print(fruits)"
   ]
  },
  {
   "cell_type": "markdown",
   "id": "a9366d3d-0f25-4a34-a524-2fc7e015c6c7",
   "metadata": {},
   "source": [
    "##\n",
    "#### <span style=\"color:#2e9c14\"><i>Adding Elements to a List</i></span>\n",
    "- <span style=\"color:#029DA3\">Appending Elements to the End of a List</span>\n",
    ">The simplest way to add a new element to a list is to append the item to the list. When you append an item to a list, the new element is added to the end of the list."
   ]
  },
  {
   "cell_type": "code",
   "execution_count": 11,
   "id": "1f9d30b5-27cb-4324-a945-d1b6ea27ef93",
   "metadata": {},
   "outputs": [
    {
     "name": "stdout",
     "output_type": "stream",
     "text": [
      "['apricot', 'banana', 'orange', 'mango', 'pear']\n"
     ]
    }
   ],
   "source": [
    "fruits.append(\"pear\")\n",
    "print(fruits)"
   ]
  },
  {
   "cell_type": "markdown",
   "id": "e8ea7a3a-768e-483f-b8ac-75f6263e5552",
   "metadata": {
    "tags": []
   },
   "source": [
    ">The append() method makes it easy to build lists dynamically. For example, you can start with an empty list and then add items to the list using a series of append() calls. "
   ]
  },
  {
   "cell_type": "code",
   "execution_count": 12,
   "id": "eb0c8871-8027-4f29-b8a9-1c7dfca9fa85",
   "metadata": {},
   "outputs": [
    {
     "name": "stdout",
     "output_type": "stream",
     "text": [
      "['apple', 'banana', 'orange', 'mango']\n"
     ]
    }
   ],
   "source": [
    "fruits = []  #empty list\n",
    "\n",
    "fruits.append(\"apple\")\n",
    "fruits.append(\"banana\")\n",
    "fruits.append(\"orange\")\n",
    "fruits.append(\"mango\")\n",
    "\n",
    "print(fruits)"
   ]
  },
  {
   "cell_type": "markdown",
   "id": "2df37f2d-d57e-48ce-8cfa-b7a6aeef41a7",
   "metadata": {
    "tags": []
   },
   "source": [
    ">Building lists this way is very common, because you often won’t know the data your users want to store in a program until after the program is running. To put your users in control, start by defining an empty list that will hold the users’ values. Then append each new value provided to the list you just created."
   ]
  },
  {
   "cell_type": "markdown",
   "id": "d21ed405-0791-4414-a7e7-2248d4713002",
   "metadata": {},
   "source": [
    "#### \n",
    "- <span style=\"color:#029DA3\">Inserting Elements into a List</span>\n",
    ">You can add a new element at any position in your list by using the insert() method. You do this by specifying the index of the new element and the value of the new item."
   ]
  },
  {
   "cell_type": "code",
   "execution_count": 13,
   "id": "4357db3c-2760-4b02-816d-1594d360b8e2",
   "metadata": {},
   "outputs": [
    {
     "name": "stdout",
     "output_type": "stream",
     "text": [
      "['apple', 'apricot', 'banana', 'orange', 'mango']\n"
     ]
    }
   ],
   "source": [
    "fruits = [\"apple\", \"banana\", \"orange\", \"mango\"]\n",
    "fruits.insert(1, \"apricot\")  # insert \"apricot\" at index 1\n",
    "print(fruits)"
   ]
  },
  {
   "cell_type": "code",
   "execution_count": 14,
   "id": "aaa75342-af49-427c-9eee-3e93ab5050d2",
   "metadata": {},
   "outputs": [
    {
     "name": "stdout",
     "output_type": "stream",
     "text": [
      "['acerola', 'apple', 'apricot', 'banana', 'orange', 'mango']\n"
     ]
    }
   ],
   "source": [
    "fruits.insert(0, \"acerola\")\n",
    "print(fruits)"
   ]
  },
  {
   "cell_type": "markdown",
   "id": "29c6dc95-db22-41ec-9cb9-fce3a7ad9720",
   "metadata": {},
   "source": [
    "####\n",
    "- <span style=\"color:#029DA3\">Removing an Item Using the del and pop Statement</span>\n",
    "\n",
    "        If you know the position of the item you want to remove from a list, you can use the del statement."
   ]
  },
  {
   "cell_type": "code",
   "execution_count": 15,
   "id": "4f312649-1bca-43e0-ac2e-290489165b2f",
   "metadata": {
    "tags": []
   },
   "outputs": [
    {
     "name": "stdout",
     "output_type": "stream",
     "text": [
      "['apple', 'banana', 'mango']\n"
     ]
    }
   ],
   "source": [
    "fruits = [\"apple\", \"banana\", \"orange\", \"mango\"]\n",
    "del fruits[2]  #remove orange\n",
    "print(fruits)"
   ]
  },
  {
   "cell_type": "markdown",
   "id": "fb34ae48-b79c-4573-a569-c7fce3c294f2",
   "metadata": {},
   "source": [
    ">The pop() method removes the last item in a list, but it lets you work with that item after removing it. The term pop comes from thinking of a list as a stack of items and popping one item off the top of the stack. In this analogy, the top of a stack corresponds to the end of a list."
   ]
  },
  {
   "cell_type": "code",
   "execution_count": 16,
   "id": "031a81af-00db-4c18-ab29-aef0e9f0f4e2",
   "metadata": {},
   "outputs": [
    {
     "name": "stdout",
     "output_type": "stream",
     "text": [
      "['apple', 'banana', 'orange']\n",
      "mango\n"
     ]
    }
   ],
   "source": [
    "fruits = [\"apple\", \"banana\", \"orange\", \"mango\"]\n",
    "popped_fruit = fruits.pop()\n",
    "\n",
    "print(fruits)\n",
    "print(popped_fruit)"
   ]
  },
  {
   "cell_type": "markdown",
   "id": "4653515b-ec0b-4ee2-888f-1442bb4ca2bb",
   "metadata": {},
   "source": [
    ">You can use pop() to remove an item from any position in a list by including the index of the item you want to remove in parentheses."
   ]
  },
  {
   "cell_type": "code",
   "execution_count": 17,
   "id": "6a93824d-1b0a-4169-adbf-2584657a86ef",
   "metadata": {},
   "outputs": [
    {
     "name": "stdout",
     "output_type": "stream",
     "text": [
      "['apple', 'orange', 'mango']\n",
      "banana\n"
     ]
    }
   ],
   "source": [
    "fruits = [\"apple\", \"banana\", \"orange\", \"mango\"]\n",
    "popped_fruit = fruits.pop(1)\n",
    "print(fruits)\n",
    "print(popped_fruit)"
   ]
  },
  {
   "cell_type": "markdown",
   "id": "c619974a-bd35-4d1e-935b-40f51df56b40",
   "metadata": {},
   "source": [
    ">If you’re unsure whether to use the del statement or the pop() method, here’s a simple way to decide: when you want to delete an item from a list and not use that item in any way, use the del statement; if you want to use an item as you remove it, use the pop() method."
   ]
  },
  {
   "cell_type": "markdown",
   "id": "21523b81-7564-42d4-b68d-4b9e7e24c6f0",
   "metadata": {},
   "source": [
    "####\n",
    "- <span style=\"color:#029DA3\">Removing an Item by Value</span>\n",
    ">Sometimes you won’t know the position of the value you want to remove from a list. If you only know the value of the item you want to remove, you can use the remove() method."
   ]
  },
  {
   "cell_type": "code",
   "execution_count": 18,
   "id": "59d201f4-1167-4bee-a0cb-2d6afe58372c",
   "metadata": {},
   "outputs": [
    {
     "name": "stdout",
     "output_type": "stream",
     "text": [
      "['apple', 'banana', 'mango']\n"
     ]
    }
   ],
   "source": [
    "fruits = [\"apple\", \"banana\", \"orange\", \"mango\"]\n",
    "fruits.remove(\"orange\")\n",
    "print(fruits)"
   ]
  },
  {
   "cell_type": "markdown",
   "id": "ea3f2506-1279-4984-a066-74dfc7d2feb0",
   "metadata": {},
   "source": [
    ">You can also use the remove() method to work with a value that’s being removed from a list."
   ]
  },
  {
   "cell_type": "code",
   "execution_count": 44,
   "id": "f6276a8c-6a05-467f-adb3-625a07a6a474",
   "metadata": {},
   "outputs": [
    {
     "name": "stdout",
     "output_type": "stream",
     "text": [
      "['apple', 'orange', 'mango']\n"
     ]
    }
   ],
   "source": [
    "fruits = [\"apple\", \"banana\", \"orange\", \"mango\"]\n",
    "banned_fruit = \"banana\"\n",
    "\n",
    "fruits.remove(banned_fruit)\n",
    "print(fruits)"
   ]
  },
  {
   "cell_type": "markdown",
   "id": "9d9cfe8f-2696-4980-8de0-2c9190c2465c",
   "metadata": {},
   "source": [
    ">The remove() method deletes only the first occurrence of the value you specify. If there’s a possibility the value appears more than once in the list, you’ll need to use a lambda / loop to make sure all occurrences of the value are removed."
   ]
  },
  {
   "cell_type": "code",
   "execution_count": 20,
   "id": "0191f8b6-a3e2-4c9e-9fd2-689f2d56a595",
   "metadata": {},
   "outputs": [
    {
     "name": "stdout",
     "output_type": "stream",
     "text": [
      "['apple', 'banana', 'orange', 'mango']\n"
     ]
    }
   ],
   "source": [
    "fruits = [\"apple\", \"banana\", \"banana\", \"orange\", \"mango\"]  #there are 2 bananas\n",
    "banned_fruit = \"banana\"\n",
    "\n",
    "fruits.remove(banned_fruit)\n",
    "print(fruits)"
   ]
  },
  {
   "cell_type": "code",
   "execution_count": 47,
   "id": "c36eddeb-d827-4b61-a459-5e1593f28959",
   "metadata": {},
   "outputs": [
    {
     "name": "stdout",
     "output_type": "stream",
     "text": [
      "['apple', 'orange', 'mango']\n"
     ]
    }
   ],
   "source": [
    "#using list comprehesion\n",
    "fruits = [\"apple\", \"banana\", \"banana\", \"orange\", \"mango\"]\n",
    "banned_fruit = \"banana\"\n",
    "\n",
    "fruits = [each_fruit for each_fruit in fruits if each_fruit != banned_fruit]\n",
    "print(fruits)"
   ]
  },
  {
   "cell_type": "code",
   "execution_count": 48,
   "id": "df989832-f697-48e6-9b0c-e8ce27aa50ed",
   "metadata": {},
   "outputs": [
    {
     "name": "stdout",
     "output_type": "stream",
     "text": [
      "['apple', 'orange', 'mango']\n"
     ]
    }
   ],
   "source": [
    "fruits = [each_fruit if each_fruit != banned_fruit else None for each_fruit in fruits]\n",
    "print(fruits)"
   ]
  },
  {
   "cell_type": "code",
   "execution_count": 49,
   "id": "0d01fd86-9ac3-4f4a-a368-2b53991bed61",
   "metadata": {},
   "outputs": [
    {
     "name": "stdout",
     "output_type": "stream",
     "text": [
      "['apple', 'orange', 'mango']\n"
     ]
    }
   ],
   "source": [
    "#using lambda\n",
    "fruits = [\"apple\", \"banana\", \"banana\", \"orange\", \"mango\"]\n",
    "banned_fruit = \"banana\"\n",
    "\n",
    "fruits = list(filter(lambda each_fruit: each_fruit != banned_fruit, fruits))\n",
    "print(fruits)"
   ]
  },
  {
   "cell_type": "markdown",
   "id": "aef0a15d-28ca-4eed-8716-ff3e5ed886fd",
   "metadata": {},
   "source": [
    "##\n",
    "#### <span style=\"color:#2e9c14\"><i>Organizing a List</i></span>\n",
    "\n",
    "Often, your lists will be created in an unpredictable order, because you can’t always control the order in which your users provide their data. Although this is unavoidable in most circumstances, you’ll frequently want to present your information in a particular order. \n",
    "\n",
    "Sometimes you’ll want to preserve the original order of your list, and other times you’ll want to change the original order. Python provides a number of different ways to organize your lists, depending on the situation.\n",
    "\n",
    "\n",
    "- <span style=\"color:#029DA3\">Sorting a List Permanently with the sort() Method</span>"
   ]
  },
  {
   "cell_type": "code",
   "execution_count": 50,
   "id": "39eec2af-be0b-4bcd-998c-af00831e3757",
   "metadata": {},
   "outputs": [
    {
     "name": "stdout",
     "output_type": "stream",
     "text": [
      "['C#', 'C++', 'Go', 'Html', 'Java', 'Python', 'R', 'Ruby']\n"
     ]
    }
   ],
   "source": [
    "languages = [\"C++\", \"Java\", \"Python\", \"Go\", \"Ruby\", \"C#\", \"Html\", \"R\"]\n",
    "languages.sort()\n",
    "print(languages)"
   ]
  },
  {
   "cell_type": "markdown",
   "id": "1036eb2d-32ca-4110-962b-0609debfb614",
   "metadata": {},
   "source": [
    "You can also sort this list in reverse alphabetical order by passing the argument reverse=True to the sort() method."
   ]
  },
  {
   "cell_type": "code",
   "execution_count": 24,
   "id": "33bdfc19-7c53-4584-a236-892db275d4ac",
   "metadata": {},
   "outputs": [
    {
     "name": "stdout",
     "output_type": "stream",
     "text": [
      "['Ruby', 'R', 'Python', 'Java', 'Html', 'Go', 'C++', 'C#']\n"
     ]
    }
   ],
   "source": [
    "languages.sort(reverse=True)\n",
    "print(languages)"
   ]
  },
  {
   "cell_type": "markdown",
   "id": "c35351cd-b365-45f1-9ca7-e395bd469c97",
   "metadata": {},
   "source": [
    "- <span style=\"color:#029DA3\">Sorting a List Temporarily with the sorted() Function</span>\n",
    ">To maintain the original order of a list but present it in a sorted order, you can use the sorted() function. The sorted() function lets you display your list in a particular order but doesn’t affect the actual order of the list.\n"
   ]
  },
  {
   "cell_type": "code",
   "execution_count": 25,
   "id": "d1636259-236f-49c8-b496-1a589511fc02",
   "metadata": {},
   "outputs": [
    {
     "name": "stdout",
     "output_type": "stream",
     "text": [
      "sorted: ['Ruby', 'R', 'Python', 'Java', 'Html', 'Go', 'C++', 'C#']\n",
      "original: ['C++', 'Java', 'Python', 'Go', 'Ruby', 'C#', 'Html', 'R']\n"
     ]
    }
   ],
   "source": [
    "languages = [\"C++\", \"Java\", \"Python\", \"Go\", \"Ruby\", \"C#\", \"Html\", \"R\"]\n",
    "sort_languages = sorted(languages, reverse=True)\n",
    "print(\"sorted:\",sort_languages)\n",
    "print(\"original:\",languages)"
   ]
  },
  {
   "cell_type": "markdown",
   "id": "c22318de-d918-4703-a9f4-044506457197",
   "metadata": {},
   "source": [
    ">Notice that the list still exists in its original order after the sorted() function has been used. The sorted() function can also accept a reverse=True argument if you want to display a list in reverse alphabetical order. \n",
    "    "
   ]
  },
  {
   "cell_type": "markdown",
   "id": "efe2b6ed-15a4-418f-bd37-26504e9b6c77",
   "metadata": {},
   "source": [
    "- <span style=\"color:#029DA3\">Sorting a List in Reverse Order</span>\n",
    ">To reverse the original order of a list, you can use the reverse() method.\n",
    "If we originally stored the list of cars in chronological order according to when we owned them, we could easily rearrange the list into reverse chron- ological order:"
   ]
  },
  {
   "cell_type": "code",
   "execution_count": 26,
   "id": "49199884-e075-49c4-917d-36db652d68ee",
   "metadata": {},
   "outputs": [
    {
     "name": "stdout",
     "output_type": "stream",
     "text": [
      "['C++', 'Java', 'Python', 'Go', 'Ruby', 'C#', 'Html', 'R']\n",
      "['R', 'Html', 'C#', 'Ruby', 'Go', 'Python', 'Java', 'C++']\n"
     ]
    }
   ],
   "source": [
    "languages = [\"C++\", \"Java\", \"Python\", \"Go\", \"Ruby\", \"C#\", \"Html\", \"R\"]\n",
    "print(languages)\n",
    "\n",
    "languages.reverse()\n",
    "print(languages)"
   ]
  },
  {
   "cell_type": "markdown",
   "id": "61bbd675-54d1-49bb-be62-e9c4287ca62c",
   "metadata": {},
   "source": [
    "####\n",
    "- <span style=\"color:#029DA3\">Finding the Length of a List</span>\n",
    ">You can quickly find the length of a list by using the len() function."
   ]
  },
  {
   "cell_type": "code",
   "execution_count": 27,
   "id": "55a768b2-896f-4bce-8dd6-a33afa050524",
   "metadata": {},
   "outputs": [
    {
     "data": {
      "text/plain": [
       "8"
      ]
     },
     "execution_count": 27,
     "metadata": {},
     "output_type": "execute_result"
    }
   ],
   "source": [
    "languages = [\"C++\", \"Java\", \"Python\", \"Go\", \"Ruby\", \"C#\", \"Html\", \"R\"]\n",
    "len(languages)"
   ]
  },
  {
   "cell_type": "markdown",
   "id": "27c2583e-5d1b-4c90-bf78-ab893d0ca71a",
   "metadata": {},
   "source": [
    "##\n",
    "### <span style=\"color:#2e9c14\"><i>List Comprehension \\*\\*</i></span>\n",
    "A more compact syntax when we want to loop through a list to create a new list.\n"
   ]
  },
  {
   "cell_type": "markdown",
   "id": "348bc2f1-8b6f-4d3c-86ef-31f103e88134",
   "metadata": {},
   "source": [
    "\\\n",
    "Ex. add 1 to all values in a list"
   ]
  },
  {
   "cell_type": "code",
   "execution_count": 12,
   "id": "ae4851fc-1bb3-435a-9b2a-e14d2863241a",
   "metadata": {},
   "outputs": [],
   "source": [
    "l = [0, 1, 2, 3]"
   ]
  },
  {
   "cell_type": "code",
   "execution_count": 13,
   "id": "44472926-907a-475c-8e0b-c2779f1ce734",
   "metadata": {},
   "outputs": [
    {
     "data": {
      "text/plain": [
       "[1, 2, 3, 4]"
      ]
     },
     "execution_count": 13,
     "metadata": {},
     "output_type": "execute_result"
    }
   ],
   "source": [
    "lplus1 =[v+1 for v in l]\n",
    "lplus1"
   ]
  },
  {
   "cell_type": "markdown",
   "id": "f760d529-2f05-4899-ac23-69c7b37bb8f2",
   "metadata": {},
   "source": [
    "\\\n",
    "Note: we cannot just simply + 1 to l"
   ]
  },
  {
   "cell_type": "code",
   "execution_count": 14,
   "id": "913d1158-7296-4698-ae39-fbe3ae4f87ed",
   "metadata": {},
   "outputs": [
    {
     "ename": "TypeError",
     "evalue": "can only concatenate list (not \"int\") to list",
     "output_type": "error",
     "traceback": [
      "\u001b[0;31m---------------------------------------------------------------------------\u001b[0m",
      "\u001b[0;31mTypeError\u001b[0m                                 Traceback (most recent call last)",
      "Cell \u001b[0;32mIn[14], line 1\u001b[0m\n\u001b[0;32m----> 1\u001b[0m lplus1 \u001b[38;5;241m=\u001b[39m \u001b[43ml\u001b[49m\u001b[38;5;241;43m+\u001b[39;49m\u001b[38;5;241;43m1\u001b[39;49m\n",
      "\u001b[0;31mTypeError\u001b[0m: can only concatenate list (not \"int\") to list"
     ]
    }
   ],
   "source": [
    "lplus1 = l+1"
   ]
  },
  {
   "cell_type": "markdown",
   "id": "64f52dd2-788b-4919-ac84-b76fa7256cca",
   "metadata": {},
   "source": [
    "\\\n",
    "Ex. convert kg to pounds"
   ]
  },
  {
   "cell_type": "code",
   "execution_count": 1,
   "id": "34a177bd-bdae-4b49-84b1-22960e5df19d",
   "metadata": {},
   "outputs": [],
   "source": [
    "weight_kg = [100, 120, 30, 70]"
   ]
  },
  {
   "cell_type": "code",
   "execution_count": 4,
   "id": "d984c0df-07ec-4290-b2ba-70d6286c9f8f",
   "metadata": {},
   "outputs": [
    {
     "data": {
      "text/plain": [
       "[220.462, 264.5544, 66.1386, 154.3234]"
      ]
     },
     "execution_count": 4,
     "metadata": {},
     "output_type": "execute_result"
    }
   ],
   "source": [
    "weight_ibs = [v*2.20462 for v in weight_kg]\n",
    "weight_ibs"
   ]
  },
  {
   "cell_type": "markdown",
   "id": "8f26664c-81e9-44b3-b8fa-860e379ad334",
   "metadata": {},
   "source": [
    "\\\n",
    "Note: we cannot directly multiply weight_kg with 2.20462"
   ]
  },
  {
   "cell_type": "code",
   "execution_count": 6,
   "id": "f8671eb3-2d72-4e05-bfd2-ede5ddc354fe",
   "metadata": {},
   "outputs": [
    {
     "ename": "TypeError",
     "evalue": "can't multiply sequence by non-int of type 'float'",
     "output_type": "error",
     "traceback": [
      "\u001b[0;31m---------------------------------------------------------------------------\u001b[0m",
      "\u001b[0;31mTypeError\u001b[0m                                 Traceback (most recent call last)",
      "Cell \u001b[0;32mIn[6], line 1\u001b[0m\n\u001b[0;32m----> 1\u001b[0m \u001b[43mweight_kg\u001b[49m\u001b[38;5;241;43m*\u001b[39;49m\u001b[38;5;241;43m2.20462\u001b[39;49m\n",
      "\u001b[0;31mTypeError\u001b[0m: can't multiply sequence by non-int of type 'float'"
     ]
    }
   ],
   "source": [
    "weight_kg*2.20462"
   ]
  },
  {
   "cell_type": "markdown",
   "id": "8d94fa1e-961f-4ac5-b1f7-e5b9f1261f7e",
   "metadata": {},
   "source": [
    "\\\n",
    "**List comprehesion with if-else**  \n",
    "Ex. dealing with missing values"
   ]
  },
  {
   "cell_type": "code",
   "execution_count": 5,
   "id": "7866bb38-22e8-4ced-8713-1453b862f90a",
   "metadata": {},
   "outputs": [],
   "source": [
    "data_raw = [\"2300\", \"ไม่ระบุ\", \"5000\", \"3000\", \"4500\", \"ไม่ระบุ\"]"
   ]
  },
  {
   "cell_type": "code",
   "execution_count": 6,
   "id": "e799ccfb-cb4c-4bb2-a5d3-46a75f346fe8",
   "metadata": {},
   "outputs": [
    {
     "data": {
      "text/plain": [
       "[2300, nan, 5000, 3000, 4500, nan]"
      ]
     },
     "execution_count": 6,
     "metadata": {},
     "output_type": "execute_result"
    }
   ],
   "source": [
    "import numpy as np\n",
    "data_num = [eval(v) if v != \"ไม่ระบุ\" else np.NaN for v in data_raw]\n",
    "data_num"
   ]
  },
  {
   "cell_type": "code",
   "execution_count": 9,
   "id": "6737ecc6-822e-432f-802b-582fa625a3f4",
   "metadata": {},
   "outputs": [
    {
     "data": {
      "text/plain": [
       "3700.0"
      ]
     },
     "execution_count": 9,
     "metadata": {},
     "output_type": "execute_result"
    }
   ],
   "source": [
    "np.nanmean(data_num)"
   ]
  },
  {
   "cell_type": "markdown",
   "id": "460dcdb7-035a-47b5-bd31-eff1ab5f6b47",
   "metadata": {},
   "source": [
    "\\\n",
    "Ex. Change A to 80, B+ to 75, B to 70, C+ to 65, C to 60, D+ to 55, D to 50, F to 0"
   ]
  },
  {
   "cell_type": "code",
   "execution_count": 10,
   "id": "8518b3dd-18fa-4ad7-9197-123e923f3805",
   "metadata": {},
   "outputs": [],
   "source": [
    "letters = ['A', 'B+', 'B', 'C+', 'C','D+', 'D', 'F']"
   ]
  },
  {
   "cell_type": "code",
   "execution_count": 11,
   "id": "619e03f7-56a3-4add-a44b-faf7ba89feee",
   "metadata": {},
   "outputs": [],
   "source": [
    "dict = {'A':80, \n",
    "        'B+':75, \n",
    "        'B':70, \n",
    "        'C+':65, \n",
    "        'C':60,\n",
    "        'D+':55, \n",
    "        'D':50, \n",
    "        'F':0}"
   ]
  },
  {
   "cell_type": "code",
   "execution_count": 12,
   "id": "ae2c2c66-577c-4d6d-b542-9fdbe41e36e2",
   "metadata": {},
   "outputs": [
    {
     "data": {
      "text/plain": [
       "[80, 75, 70, 65, 60, 55, 50, 0]"
      ]
     },
     "execution_count": 12,
     "metadata": {},
     "output_type": "execute_result"
    }
   ],
   "source": [
    "nums = [dict[g] for g in letters]\n",
    "nums"
   ]
  },
  {
   "cell_type": "markdown",
   "id": "d646d131-7111-4489-b8a1-5b025bb3ac40",
   "metadata": {},
   "source": [
    "##\n",
    "#### <span style=\"color:#2e9c14\"><i>Copying a List</i></span>\n",
    "You can also work with a specific group of items in a list, which Python calls a slice. \n",
    "\n",
    "To copy a list, you can make a slice that includes the entire original list by omitting the first index and the second index ([:]). This tells Python to make a slice that starts at the first item and ends with the last item, producing a copy of the entire list."
   ]
  },
  {
   "cell_type": "code",
   "execution_count": 30,
   "id": "d4cc725f-6762-4e3a-a7c3-a111acf6ee93",
   "metadata": {},
   "outputs": [
    {
     "name": "stdout",
     "output_type": "stream",
     "text": [
      "Shop A sales: ['apple', 'banana', 'orange', 'mango']\n",
      "Shop B sales: ['apple', 'banana', 'orange', 'mango']\n",
      "Shop A change apple -> apricot\n",
      "Shop A sales: ['apricot', 'banana', 'orange', 'mango']\n",
      "Shop B sales: ['apple', 'banana', 'orange', 'mango']\n"
     ]
    }
   ],
   "source": [
    "fruits_shopA = [\"apple\", \"banana\", \"orange\", \"mango\"]\n",
    "fruits_shopB = fruits_shopA.copy()#or fruits_shopA[:]\n",
    "\n",
    "print(\"Shop A sales: \" + str(fruits_shopA))\n",
    "print(\"Shop B sales: \" + str(fruits_shopB))\n",
    "\n",
    "print(\"Shop A change apple -> apricot\")\n",
    "fruits_shopA[0] = \"apricot\"\n",
    "print(\"Shop A sales: \" + str(fruits_shopA))\n",
    "print(\"Shop B sales: \" + str(fruits_shopB))"
   ]
  },
  {
   "cell_type": "markdown",
   "id": "c74b144c-5f09-463a-b244-ec0d5e4b1a72",
   "metadata": {},
   "source": [
    "\\\n",
    "If we had simply set fruits_shopA = fruits_shopB, we would not produce two separate lists. For example, here’s what happens when you try to copy a list without using a slice:"
   ]
  },
  {
   "cell_type": "code",
   "execution_count": 23,
   "id": "7ff9882d-623f-4499-a83b-321a4a7a451d",
   "metadata": {},
   "outputs": [
    {
     "name": "stdout",
     "output_type": "stream",
     "text": [
      "Shop A sales: ['apple', 'banana', 'orange', 'mango']\n",
      "Shop B sales: ['apple', 'banana', 'orange', 'mango']\n",
      "Shop A change apple -> apricot\n",
      "Shop A sales: ['apricot', 'banana', 'orange', 'mango']\n",
      "Shop B sales: ['apricot', 'banana', 'orange', 'mango']\n"
     ]
    }
   ],
   "source": [
    "fruits_shopA = [\"apple\", \"banana\", \"orange\", \"mango\"]\n",
    "fruits_shopB = fruits_shopA \n",
    "\n",
    "print(\"Shop A sales: \" + str(fruits_shopA))\n",
    "print(\"Shop B sales: \" + str(fruits_shopB))\n",
    "\n",
    "print(\"Shop A change apple -> apricot\")\n",
    "fruits_shopA[0] = \"apricot\"\n",
    "print(\"Shop A sales: \" + str(fruits_shopA))\n",
    "print(\"Shop B sales: \" + str(fruits_shopB))"
   ]
  }
 ],
 "metadata": {
  "kernelspec": {
   "display_name": "Python 3 (ipykernel)",
   "language": "python",
   "name": "python3"
  },
  "language_info": {
   "codemirror_mode": {
    "name": "ipython",
    "version": 3
   },
   "file_extension": ".py",
   "mimetype": "text/x-python",
   "name": "python",
   "nbconvert_exporter": "python",
   "pygments_lexer": "ipython3",
   "version": "3.11.5"
  }
 },
 "nbformat": 4,
 "nbformat_minor": 5
}
