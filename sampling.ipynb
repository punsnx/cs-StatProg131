{
  "cells": [
    {
      "cell_type": "markdown",
      "id": "18d84b68-fc77-4ed7-8871-342883090cfd",
      "metadata": {
        "id": "18d84b68-fc77-4ed7-8871-342883090cfd"
      },
      "source": [
        "## <font color='DE1509'>การสุ่มตัวอย่าง</font>"
      ]
    },
    {
      "cell_type": "markdown",
      "id": "3bd89c66-cf39-4993-9e90-39e243d15328",
      "metadata": {
        "id": "3bd89c66-cf39-4993-9e90-39e243d15328"
      },
      "source": [
        "ในบทนี้ชุดข้อมูลที่ใช้คือ \"titanic.csv\" ซึ่งเป็นข้อมูลของผู้โดยสารเรือไททานิคมีรายละเอียดของแต่ละคอลัมน์ดังนี้:"
      ]
    },
    {
      "cell_type": "markdown",
      "id": "a1083323-83c6-4c07-9a9a-b116e885e95f",
      "metadata": {
        "id": "a1083323-83c6-4c07-9a9a-b116e885e95f"
      },
      "source": [
        "PassengerId: ID ของผู้โดยสาร\n",
        "Survived: ผู้โดยสารรอด (1) หรือเสียชีวิต (0)  \n",
        "Pclass: ชนชั้นของผู้โดยสาร first class (1), second class (2), thrid class (3)  \n",
        "Name: ชื่อ-สกุล  \n",
        "Sex: เพศ    \n",
        "Age: อายุ  \n",
        "SibSp: จำนวนพี่น้อง (siblings) และคู่สมรส (spouse) ที่เดินทางมาด้วย    \n",
        "Parch:  จำนวนบิดา-มารดา (parent) และบุตร (child) ที่เดินทางมาด้วย  \n",
        "Ticket: รหัสตั๋วโดยสาร  \n",
        "Fare: ค่าตั๋วโดยสาร  \n",
        "Cabin: รหัสห้องผู้โดยสาร  \n",
        "Embarked: ท่าเรือต้นทาง Southampton (S), Cherbourg (C), และ Queenstown (Q)  \n"
      ]
    },
    {
      "cell_type": "markdown",
      "id": "a77d1e5a-4844-4eb3-8194-a7761f954c80",
      "metadata": {
        "id": "a77d1e5a-4844-4eb3-8194-a7761f954c80"
      },
      "source": [
        "\\*\\*วิธีการต่างๆที่แสดงในบทเรียนนี้เป็นเพียงแค่การยกตัวอย่างเท่านั้น ในการนำไปใช้จริงประชากรควรมีจำนวนมากกว่าชุดข้อมูลที่นำมาเป็นตัวอย่างนี้"
      ]
    },
    {
      "cell_type": "markdown",
      "id": "4e6f3ec3-da0a-4511-96ef-8dd49453f48f",
      "metadata": {
        "id": "4e6f3ec3-da0a-4511-96ef-8dd49453f48f"
      },
      "source": [
        "\\\n",
        "ทำการ import library ที่ต้องใช้:"
      ]
    },
    {
      "cell_type": "code",
      "execution_count": 1,
      "id": "b4695545-8a56-4365-9d91-8a51e4ad8772",
      "metadata": {
        "id": "b4695545-8a56-4365-9d91-8a51e4ad8772"
      },
      "outputs": [],
      "source": [
        "import numpy as np #สำหรับการจัดการข้อมูลที่เป็นตัวเลขต่างๆ\n",
        "import pandas as pd #สำหรับอ่านข้อมูลให้อยู่ในรูปแบบ dataframe\n",
        "import matplotlib.pyplot as plt #เพื่อใช้ควบคู่กับ seaborn ในการทำ data visualization\n",
        "import seaborn as sns #สำหรับการทำ data visualization"
      ]
    },
    {
      "cell_type": "markdown",
      "id": "03a651b4-3257-4a31-a839-fad04f2787b8",
      "metadata": {
        "id": "03a651b4-3257-4a31-a839-fad04f2787b8"
      },
      "source": [
        "\\\n",
        "อ่านข้อมูลจากไฟล์ให้อยู่ในรูปแบบ dataframe และแสดงข้อมูล 5 แถวแรก:"
      ]
    },
    {
      "cell_type": "code",
      "execution_count": 2,
      "id": "13269281-daff-423e-b5f7-03a2b2eda0af",
      "metadata": {
        "colab": {
          "base_uri": "https://localhost:8080/",
          "height": 204
        },
        "id": "13269281-daff-423e-b5f7-03a2b2eda0af",
        "outputId": "fbdcd11c-d19d-4cfa-df5c-151eac90d985"
      },
      "outputs": [
        {
          "data": {
            "text/html": [
              "<div>\n",
              "<style scoped>\n",
              "    .dataframe tbody tr th:only-of-type {\n",
              "        vertical-align: middle;\n",
              "    }\n",
              "\n",
              "    .dataframe tbody tr th {\n",
              "        vertical-align: top;\n",
              "    }\n",
              "\n",
              "    .dataframe thead th {\n",
              "        text-align: right;\n",
              "    }\n",
              "</style>\n",
              "<table border=\"1\" class=\"dataframe\">\n",
              "  <thead>\n",
              "    <tr style=\"text-align: right;\">\n",
              "      <th></th>\n",
              "      <th>PassengerId</th>\n",
              "      <th>Survived</th>\n",
              "      <th>Pclass</th>\n",
              "      <th>Name</th>\n",
              "      <th>Sex</th>\n",
              "      <th>Age</th>\n",
              "      <th>SibSp</th>\n",
              "      <th>Parch</th>\n",
              "      <th>Ticket</th>\n",
              "      <th>Fare</th>\n",
              "      <th>Cabin</th>\n",
              "      <th>Embarked</th>\n",
              "    </tr>\n",
              "  </thead>\n",
              "  <tbody>\n",
              "    <tr>\n",
              "      <th>0</th>\n",
              "      <td>1</td>\n",
              "      <td>0</td>\n",
              "      <td>3</td>\n",
              "      <td>Braund, Mr. Owen Harris</td>\n",
              "      <td>male</td>\n",
              "      <td>22.0</td>\n",
              "      <td>1</td>\n",
              "      <td>0</td>\n",
              "      <td>A/5 21171</td>\n",
              "      <td>7.2500</td>\n",
              "      <td>NaN</td>\n",
              "      <td>S</td>\n",
              "    </tr>\n",
              "    <tr>\n",
              "      <th>1</th>\n",
              "      <td>2</td>\n",
              "      <td>1</td>\n",
              "      <td>1</td>\n",
              "      <td>Cumings, Mrs. John Bradley (Florence Briggs Th...</td>\n",
              "      <td>female</td>\n",
              "      <td>38.0</td>\n",
              "      <td>1</td>\n",
              "      <td>0</td>\n",
              "      <td>PC 17599</td>\n",
              "      <td>71.2833</td>\n",
              "      <td>C85</td>\n",
              "      <td>C</td>\n",
              "    </tr>\n",
              "    <tr>\n",
              "      <th>2</th>\n",
              "      <td>3</td>\n",
              "      <td>1</td>\n",
              "      <td>3</td>\n",
              "      <td>Heikkinen, Miss. Laina</td>\n",
              "      <td>female</td>\n",
              "      <td>26.0</td>\n",
              "      <td>0</td>\n",
              "      <td>0</td>\n",
              "      <td>STON/O2. 3101282</td>\n",
              "      <td>7.9250</td>\n",
              "      <td>NaN</td>\n",
              "      <td>S</td>\n",
              "    </tr>\n",
              "    <tr>\n",
              "      <th>3</th>\n",
              "      <td>4</td>\n",
              "      <td>1</td>\n",
              "      <td>1</td>\n",
              "      <td>Futrelle, Mrs. Jacques Heath (Lily May Peel)</td>\n",
              "      <td>female</td>\n",
              "      <td>35.0</td>\n",
              "      <td>1</td>\n",
              "      <td>0</td>\n",
              "      <td>113803</td>\n",
              "      <td>53.1000</td>\n",
              "      <td>C123</td>\n",
              "      <td>S</td>\n",
              "    </tr>\n",
              "    <tr>\n",
              "      <th>4</th>\n",
              "      <td>5</td>\n",
              "      <td>0</td>\n",
              "      <td>3</td>\n",
              "      <td>Allen, Mr. William Henry</td>\n",
              "      <td>male</td>\n",
              "      <td>35.0</td>\n",
              "      <td>0</td>\n",
              "      <td>0</td>\n",
              "      <td>373450</td>\n",
              "      <td>8.0500</td>\n",
              "      <td>NaN</td>\n",
              "      <td>S</td>\n",
              "    </tr>\n",
              "  </tbody>\n",
              "</table>\n",
              "</div>"
            ],
            "text/plain": [
              "   PassengerId  Survived  Pclass  \\\n",
              "0            1         0       3   \n",
              "1            2         1       1   \n",
              "2            3         1       3   \n",
              "3            4         1       1   \n",
              "4            5         0       3   \n",
              "\n",
              "                                                Name     Sex   Age  SibSp  \\\n",
              "0                            Braund, Mr. Owen Harris    male  22.0      1   \n",
              "1  Cumings, Mrs. John Bradley (Florence Briggs Th...  female  38.0      1   \n",
              "2                             Heikkinen, Miss. Laina  female  26.0      0   \n",
              "3       Futrelle, Mrs. Jacques Heath (Lily May Peel)  female  35.0      1   \n",
              "4                           Allen, Mr. William Henry    male  35.0      0   \n",
              "\n",
              "   Parch            Ticket     Fare Cabin Embarked  \n",
              "0      0         A/5 21171   7.2500   NaN        S  \n",
              "1      0          PC 17599  71.2833   C85        C  \n",
              "2      0  STON/O2. 3101282   7.9250   NaN        S  \n",
              "3      0            113803  53.1000  C123        S  \n",
              "4      0            373450   8.0500   NaN        S  "
            ]
          },
          "execution_count": 2,
          "metadata": {},
          "output_type": "execute_result"
        }
      ],
      "source": [
        "df = pd.read_csv(\"https://raw.githubusercontent.com/ThammakornS/ProgStat/main/dataset/titanic.csv\")\n",
        "df.head()"
      ]
    },
    {
      "cell_type": "markdown",
      "id": "1ba71f2a-c5c7-43a9-b1eb-abf429bcd09c",
      "metadata": {
        "id": "1ba71f2a-c5c7-43a9-b1eb-abf429bcd09c"
      },
      "source": [
        "\\\n",
        "ดูภาพรวมข้อมูลเบื้องต้น:"
      ]
    },
    {
      "cell_type": "code",
      "execution_count": 3,
      "id": "6bc16086-8170-4e5c-a93c-5825c06f6c6c",
      "metadata": {
        "colab": {
          "base_uri": "https://localhost:8080/"
        },
        "id": "6bc16086-8170-4e5c-a93c-5825c06f6c6c",
        "outputId": "a8046a04-2141-4820-f78d-8afba83528b2"
      },
      "outputs": [
        {
          "name": "stdout",
          "output_type": "stream",
          "text": [
            "<class 'pandas.core.frame.DataFrame'>\n",
            "RangeIndex: 891 entries, 0 to 890\n",
            "Data columns (total 12 columns):\n",
            " #   Column       Non-Null Count  Dtype  \n",
            "---  ------       --------------  -----  \n",
            " 0   PassengerId  891 non-null    int64  \n",
            " 1   Survived     891 non-null    int64  \n",
            " 2   Pclass       891 non-null    int64  \n",
            " 3   Name         891 non-null    object \n",
            " 4   Sex          891 non-null    object \n",
            " 5   Age          714 non-null    float64\n",
            " 6   SibSp        891 non-null    int64  \n",
            " 7   Parch        891 non-null    int64  \n",
            " 8   Ticket       891 non-null    object \n",
            " 9   Fare         891 non-null    float64\n",
            " 10  Cabin        204 non-null    object \n",
            " 11  Embarked     889 non-null    object \n",
            "dtypes: float64(2), int64(5), object(5)\n",
            "memory usage: 83.7+ KB\n"
          ]
        }
      ],
      "source": [
        "df.info()"
      ]
    },
    {
      "cell_type": "markdown",
      "id": "13b2214d-c531-4c2e-8876-8597f160c324",
      "metadata": {
        "id": "13b2214d-c531-4c2e-8876-8597f160c324"
      },
      "source": [
        "\\\n",
        "เนื่องจากในบทนี้จะใช้ข้อมูลอายุเป็นหลัก จึงต้องกรองให้มีเฉพาะผู้โดยสารที่มีข้อมูลอายุเท่านั้น:"
      ]
    },
    {
      "cell_type": "code",
      "execution_count": 4,
      "id": "c0e7ec85-d77f-41f6-83ef-5e4a884d5d65",
      "metadata": {
        "colab": {
          "base_uri": "https://localhost:8080/"
        },
        "id": "c0e7ec85-d77f-41f6-83ef-5e4a884d5d65",
        "outputId": "3046fe62-028d-4134-b8c4-9b25402442d6"
      },
      "outputs": [
        {
          "name": "stdout",
          "output_type": "stream",
          "text": [
            "<class 'pandas.core.frame.DataFrame'>\n",
            "Index: 714 entries, 0 to 890\n",
            "Data columns (total 12 columns):\n",
            " #   Column       Non-Null Count  Dtype  \n",
            "---  ------       --------------  -----  \n",
            " 0   PassengerId  714 non-null    int64  \n",
            " 1   Survived     714 non-null    int64  \n",
            " 2   Pclass       714 non-null    int64  \n",
            " 3   Name         714 non-null    object \n",
            " 4   Sex          714 non-null    object \n",
            " 5   Age          714 non-null    float64\n",
            " 6   SibSp        714 non-null    int64  \n",
            " 7   Parch        714 non-null    int64  \n",
            " 8   Ticket       714 non-null    object \n",
            " 9   Fare         714 non-null    float64\n",
            " 10  Cabin        185 non-null    object \n",
            " 11  Embarked     712 non-null    object \n",
            "dtypes: float64(2), int64(5), object(5)\n",
            "memory usage: 72.5+ KB\n"
          ]
        }
      ],
      "source": [
        "df = df[df.Age.notnull()]\n",
        "df.info()"
      ]
    },
    {
      "cell_type": "markdown",
      "id": "fbe0fa52-eb77-4da3-87c1-0226e8cdaacb",
      "metadata": {
        "id": "fbe0fa52-eb77-4da3-87c1-0226e8cdaacb"
      },
      "source": [
        "####   \n",
        "#### 1. เลือกตัวอย่างขนาด n = 100 โดยใช้การสุ่มตัวอย่างแบบง่าย (simple random sampling)"
      ]
    },
    {
      "cell_type": "code",
      "execution_count": 5,
      "id": "d559b256-b3ab-4048-b678-94fcdd6c2933",
      "metadata": {
        "colab": {
          "base_uri": "https://localhost:8080/",
          "height": 204
        },
        "id": "d559b256-b3ab-4048-b678-94fcdd6c2933",
        "outputId": "a91e323c-0ec1-4a95-95a7-2f1edd0b10ab"
      },
      "outputs": [
        {
          "data": {
            "text/html": [
              "<div>\n",
              "<style scoped>\n",
              "    .dataframe tbody tr th:only-of-type {\n",
              "        vertical-align: middle;\n",
              "    }\n",
              "\n",
              "    .dataframe tbody tr th {\n",
              "        vertical-align: top;\n",
              "    }\n",
              "\n",
              "    .dataframe thead th {\n",
              "        text-align: right;\n",
              "    }\n",
              "</style>\n",
              "<table border=\"1\" class=\"dataframe\">\n",
              "  <thead>\n",
              "    <tr style=\"text-align: right;\">\n",
              "      <th></th>\n",
              "      <th>PassengerId</th>\n",
              "      <th>Survived</th>\n",
              "      <th>Pclass</th>\n",
              "      <th>Name</th>\n",
              "      <th>Sex</th>\n",
              "      <th>Age</th>\n",
              "      <th>SibSp</th>\n",
              "      <th>Parch</th>\n",
              "      <th>Ticket</th>\n",
              "      <th>Fare</th>\n",
              "      <th>Cabin</th>\n",
              "      <th>Embarked</th>\n",
              "    </tr>\n",
              "  </thead>\n",
              "  <tbody>\n",
              "    <tr>\n",
              "      <th>606</th>\n",
              "      <td>607</td>\n",
              "      <td>0</td>\n",
              "      <td>3</td>\n",
              "      <td>Karaic, Mr. Milan</td>\n",
              "      <td>male</td>\n",
              "      <td>30.0</td>\n",
              "      <td>0</td>\n",
              "      <td>0</td>\n",
              "      <td>349246</td>\n",
              "      <td>7.8958</td>\n",
              "      <td>NaN</td>\n",
              "      <td>S</td>\n",
              "    </tr>\n",
              "    <tr>\n",
              "      <th>132</th>\n",
              "      <td>133</td>\n",
              "      <td>0</td>\n",
              "      <td>3</td>\n",
              "      <td>Robins, Mrs. Alexander A (Grace Charity Laury)</td>\n",
              "      <td>female</td>\n",
              "      <td>47.0</td>\n",
              "      <td>1</td>\n",
              "      <td>0</td>\n",
              "      <td>A/5. 3337</td>\n",
              "      <td>14.5000</td>\n",
              "      <td>NaN</td>\n",
              "      <td>S</td>\n",
              "    </tr>\n",
              "    <tr>\n",
              "      <th>847</th>\n",
              "      <td>848</td>\n",
              "      <td>0</td>\n",
              "      <td>3</td>\n",
              "      <td>Markoff, Mr. Marin</td>\n",
              "      <td>male</td>\n",
              "      <td>35.0</td>\n",
              "      <td>0</td>\n",
              "      <td>0</td>\n",
              "      <td>349213</td>\n",
              "      <td>7.8958</td>\n",
              "      <td>NaN</td>\n",
              "      <td>C</td>\n",
              "    </tr>\n",
              "    <tr>\n",
              "      <th>544</th>\n",
              "      <td>545</td>\n",
              "      <td>0</td>\n",
              "      <td>1</td>\n",
              "      <td>Douglas, Mr. Walter Donald</td>\n",
              "      <td>male</td>\n",
              "      <td>50.0</td>\n",
              "      <td>1</td>\n",
              "      <td>0</td>\n",
              "      <td>PC 17761</td>\n",
              "      <td>106.4250</td>\n",
              "      <td>C86</td>\n",
              "      <td>C</td>\n",
              "    </tr>\n",
              "    <tr>\n",
              "      <th>344</th>\n",
              "      <td>345</td>\n",
              "      <td>0</td>\n",
              "      <td>2</td>\n",
              "      <td>Fox, Mr. Stanley Hubert</td>\n",
              "      <td>male</td>\n",
              "      <td>36.0</td>\n",
              "      <td>0</td>\n",
              "      <td>0</td>\n",
              "      <td>229236</td>\n",
              "      <td>13.0000</td>\n",
              "      <td>NaN</td>\n",
              "      <td>S</td>\n",
              "    </tr>\n",
              "  </tbody>\n",
              "</table>\n",
              "</div>"
            ],
            "text/plain": [
              "     PassengerId  Survived  Pclass  \\\n",
              "606          607         0       3   \n",
              "132          133         0       3   \n",
              "847          848         0       3   \n",
              "544          545         0       1   \n",
              "344          345         0       2   \n",
              "\n",
              "                                               Name     Sex   Age  SibSp  \\\n",
              "606                               Karaic, Mr. Milan    male  30.0      0   \n",
              "132  Robins, Mrs. Alexander A (Grace Charity Laury)  female  47.0      1   \n",
              "847                              Markoff, Mr. Marin    male  35.0      0   \n",
              "544                      Douglas, Mr. Walter Donald    male  50.0      1   \n",
              "344                         Fox, Mr. Stanley Hubert    male  36.0      0   \n",
              "\n",
              "     Parch     Ticket      Fare Cabin Embarked  \n",
              "606      0     349246    7.8958   NaN        S  \n",
              "132      0  A/5. 3337   14.5000   NaN        S  \n",
              "847      0     349213    7.8958   NaN        C  \n",
              "544      0   PC 17761  106.4250   C86        C  \n",
              "344      0     229236   13.0000   NaN        S  "
            ]
          },
          "execution_count": 5,
          "metadata": {},
          "output_type": "execute_result"
        }
      ],
      "source": [
        "sample_simple_rand = df.sample(n=100)\n",
        "sample_simple_rand.head()"
      ]
    },
    {
      "cell_type": "markdown",
      "id": "659345b5-3069-4155-8b70-931343757b6a",
      "metadata": {
        "id": "659345b5-3069-4155-8b70-931343757b6a"
      },
      "source": [
        "\\\n",
        "หาค่าเฉลี่ยอายุจากตัวอย่างที่ได้:"
      ]
    },
    {
      "cell_type": "code",
      "execution_count": 6,
      "id": "0b717b0e-f3b7-4330-b532-594d42c3ccb8",
      "metadata": {
        "colab": {
          "base_uri": "https://localhost:8080/"
        },
        "id": "0b717b0e-f3b7-4330-b532-594d42c3ccb8",
        "outputId": "a1687095-89b5-4f2f-b325-22d18d67019f"
      },
      "outputs": [
        {
          "data": {
            "text/plain": [
              "29.4333"
            ]
          },
          "execution_count": 6,
          "metadata": {},
          "output_type": "execute_result"
        }
      ],
      "source": [
        "sample_simple_rand.Age.mean()"
      ]
    },
    {
      "cell_type": "code",
      "execution_count": 7,
      "id": "ac766dfe-5221-4abf-98e5-50fd5038a192",
      "metadata": {
        "colab": {
          "base_uri": "https://localhost:8080/",
          "height": 35
        },
        "id": "ac766dfe-5221-4abf-98e5-50fd5038a192",
        "outputId": "f728c75c-4a67-4775-c017-079fb71245ac"
      },
      "outputs": [
        {
          "data": {
            "text/plain": [
              "'ค่าเฉลี่ยอายุตัวอย่าง =  29.43 ±  15.16'"
            ]
          },
          "execution_count": 7,
          "metadata": {},
          "output_type": "execute_result"
        }
      ],
      "source": [
        "f\"ค่าเฉลี่ยอายุตัวอย่าง = {sample_simple_rand.Age.mean(): .2f} ± {sample_simple_rand.Age.std(): .2f}\""
      ]
    },
    {
      "cell_type": "markdown",
      "id": "9194cd0c-9afe-4958-a0c6-80e2f94f5e73",
      "metadata": {
        "id": "9194cd0c-9afe-4958-a0c6-80e2f94f5e73"
      },
      "source": [
        "\\\n",
        "ค่าเฉลี่ยอายุของประชากร:"
      ]
    },
    {
      "cell_type": "code",
      "execution_count": 8,
      "id": "33124109-5160-492d-8fa6-b1016d447b44",
      "metadata": {
        "colab": {
          "base_uri": "https://localhost:8080/"
        },
        "id": "33124109-5160-492d-8fa6-b1016d447b44",
        "outputId": "955cdd0a-4064-46d0-df4f-ce7847b4a304"
      },
      "outputs": [
        {
          "data": {
            "text/plain": [
              "29.69911764705882"
            ]
          },
          "execution_count": 8,
          "metadata": {},
          "output_type": "execute_result"
        }
      ],
      "source": [
        "df.Age.mean()"
      ]
    },
    {
      "cell_type": "code",
      "execution_count": 9,
      "id": "900a47d2-6891-4f08-a9ee-3c5dd866d335",
      "metadata": {
        "colab": {
          "base_uri": "https://localhost:8080/",
          "height": 35
        },
        "id": "900a47d2-6891-4f08-a9ee-3c5dd866d335",
        "outputId": "e4af0071-36e8-4442-92ba-9fe57148fcbb"
      },
      "outputs": [
        {
          "data": {
            "text/plain": [
              "'ค่าเฉลี่ยอายุประชากร =  29.70 ±  14.53'"
            ]
          },
          "execution_count": 9,
          "metadata": {},
          "output_type": "execute_result"
        }
      ],
      "source": [
        "f\"ค่าเฉลี่ยอายุประชากร = {df.Age.mean(): .2f} ± {df.Age.std(): .2f}\""
      ]
    },
    {
      "cell_type": "markdown",
      "id": "af8782f5-de39-4b8c-9553-7be4445a2ef3",
      "metadata": {
        "id": "af8782f5-de39-4b8c-9553-7be4445a2ef3"
      },
      "source": [
        "\\\n",
        "การกำหนดเลขสุ่มเพื่อให้สามารถทำการทดลองซ้ำได้"
      ]
    },
    {
      "cell_type": "code",
      "execution_count": 10,
      "id": "14e84744-71db-4581-8a45-24394ff10328",
      "metadata": {
        "id": "14e84744-71db-4581-8a45-24394ff10328"
      },
      "outputs": [],
      "source": [
        "sample_simple_rand = df.sample(n=100, random_state=123)"
      ]
    },
    {
      "cell_type": "code",
      "execution_count": 11,
      "id": "415a7dd7-9ab6-4510-a398-8c896819bce7",
      "metadata": {
        "colab": {
          "base_uri": "https://localhost:8080/",
          "height": 204
        },
        "id": "415a7dd7-9ab6-4510-a398-8c896819bce7",
        "outputId": "e37906d5-595c-4120-cbd6-f64e0e24bdde"
      },
      "outputs": [
        {
          "data": {
            "text/html": [
              "<div>\n",
              "<style scoped>\n",
              "    .dataframe tbody tr th:only-of-type {\n",
              "        vertical-align: middle;\n",
              "    }\n",
              "\n",
              "    .dataframe tbody tr th {\n",
              "        vertical-align: top;\n",
              "    }\n",
              "\n",
              "    .dataframe thead th {\n",
              "        text-align: right;\n",
              "    }\n",
              "</style>\n",
              "<table border=\"1\" class=\"dataframe\">\n",
              "  <thead>\n",
              "    <tr style=\"text-align: right;\">\n",
              "      <th></th>\n",
              "      <th>PassengerId</th>\n",
              "      <th>Survived</th>\n",
              "      <th>Pclass</th>\n",
              "      <th>Name</th>\n",
              "      <th>Sex</th>\n",
              "      <th>Age</th>\n",
              "      <th>SibSp</th>\n",
              "      <th>Parch</th>\n",
              "      <th>Ticket</th>\n",
              "      <th>Fare</th>\n",
              "      <th>Cabin</th>\n",
              "      <th>Embarked</th>\n",
              "    </tr>\n",
              "  </thead>\n",
              "  <tbody>\n",
              "    <tr>\n",
              "      <th>651</th>\n",
              "      <td>652</td>\n",
              "      <td>1</td>\n",
              "      <td>2</td>\n",
              "      <td>Doling, Miss. Elsie</td>\n",
              "      <td>female</td>\n",
              "      <td>18.0</td>\n",
              "      <td>0</td>\n",
              "      <td>1</td>\n",
              "      <td>231919</td>\n",
              "      <td>23.0000</td>\n",
              "      <td>NaN</td>\n",
              "      <td>S</td>\n",
              "    </tr>\n",
              "    <tr>\n",
              "      <th>694</th>\n",
              "      <td>695</td>\n",
              "      <td>0</td>\n",
              "      <td>1</td>\n",
              "      <td>Weir, Col. John</td>\n",
              "      <td>male</td>\n",
              "      <td>60.0</td>\n",
              "      <td>0</td>\n",
              "      <td>0</td>\n",
              "      <td>113800</td>\n",
              "      <td>26.5500</td>\n",
              "      <td>NaN</td>\n",
              "      <td>S</td>\n",
              "    </tr>\n",
              "    <tr>\n",
              "      <th>797</th>\n",
              "      <td>798</td>\n",
              "      <td>1</td>\n",
              "      <td>3</td>\n",
              "      <td>Osman, Mrs. Mara</td>\n",
              "      <td>female</td>\n",
              "      <td>31.0</td>\n",
              "      <td>0</td>\n",
              "      <td>0</td>\n",
              "      <td>349244</td>\n",
              "      <td>8.6833</td>\n",
              "      <td>NaN</td>\n",
              "      <td>S</td>\n",
              "    </tr>\n",
              "    <tr>\n",
              "      <th>875</th>\n",
              "      <td>876</td>\n",
              "      <td>1</td>\n",
              "      <td>3</td>\n",
              "      <td>Najib, Miss. Adele Kiamie \"Jane\"</td>\n",
              "      <td>female</td>\n",
              "      <td>15.0</td>\n",
              "      <td>0</td>\n",
              "      <td>0</td>\n",
              "      <td>2667</td>\n",
              "      <td>7.2250</td>\n",
              "      <td>NaN</td>\n",
              "      <td>C</td>\n",
              "    </tr>\n",
              "    <tr>\n",
              "      <th>505</th>\n",
              "      <td>506</td>\n",
              "      <td>0</td>\n",
              "      <td>1</td>\n",
              "      <td>Penasco y Castellana, Mr. Victor de Satode</td>\n",
              "      <td>male</td>\n",
              "      <td>18.0</td>\n",
              "      <td>1</td>\n",
              "      <td>0</td>\n",
              "      <td>PC 17758</td>\n",
              "      <td>108.9000</td>\n",
              "      <td>C65</td>\n",
              "      <td>C</td>\n",
              "    </tr>\n",
              "  </tbody>\n",
              "</table>\n",
              "</div>"
            ],
            "text/plain": [
              "     PassengerId  Survived  Pclass  \\\n",
              "651          652         1       2   \n",
              "694          695         0       1   \n",
              "797          798         1       3   \n",
              "875          876         1       3   \n",
              "505          506         0       1   \n",
              "\n",
              "                                           Name     Sex   Age  SibSp  Parch  \\\n",
              "651                         Doling, Miss. Elsie  female  18.0      0      1   \n",
              "694                             Weir, Col. John    male  60.0      0      0   \n",
              "797                            Osman, Mrs. Mara  female  31.0      0      0   \n",
              "875            Najib, Miss. Adele Kiamie \"Jane\"  female  15.0      0      0   \n",
              "505  Penasco y Castellana, Mr. Victor de Satode    male  18.0      1      0   \n",
              "\n",
              "       Ticket      Fare Cabin Embarked  \n",
              "651    231919   23.0000   NaN        S  \n",
              "694    113800   26.5500   NaN        S  \n",
              "797    349244    8.6833   NaN        S  \n",
              "875      2667    7.2250   NaN        C  \n",
              "505  PC 17758  108.9000   C65        C  "
            ]
          },
          "execution_count": 11,
          "metadata": {},
          "output_type": "execute_result"
        }
      ],
      "source": [
        "sample_simple_rand.head()"
      ]
    },
    {
      "cell_type": "markdown",
      "id": "643afc86-b478-448e-9399-41b090a64c08",
      "metadata": {
        "id": "643afc86-b478-448e-9399-41b090a64c08"
      },
      "source": [
        "####  \n",
        "#### 2. เลือกตัวอย่างขนาด n = 100 โดยใช้การสุ่มตัวอย่างแบบมีระบบ (systematic sampling)"
      ]
    },
    {
      "cell_type": "markdown",
      "id": "74285c81-21b7-4e88-bce1-e9de9c30512b",
      "metadata": {
        "id": "74285c81-21b7-4e88-bce1-e9de9c30512b"
      },
      "source": [
        "\\\n",
        "หาขนาดช่วงการสุ่ม I:"
      ]
    },
    {
      "cell_type": "code",
      "execution_count": 18,
      "id": "7aca08fe-8463-432a-89db-7361b9d15d97",
      "metadata": {
        "colab": {
          "base_uri": "https://localhost:8080/",
          "height": 191
        },
        "id": "7aca08fe-8463-432a-89db-7361b9d15d97",
        "outputId": "00b90b66-fe6f-4717-8de1-564ce459cc34"
      },
      "outputs": [
        {
          "data": {
            "text/plain": [
              "7.14"
            ]
          },
          "execution_count": 18,
          "metadata": {},
          "output_type": "execute_result"
        }
      ],
      "source": [
        "I = df.shape[0]/100\n",
        "I"
      ]
    },
    {
      "cell_type": "markdown",
      "id": "be8b21bb-d890-4b5d-bc38-607924224fe1",
      "metadata": {
        "id": "be8b21bb-d890-4b5d-bc38-607924224fe1"
      },
      "source": [
        "\\\n",
        "index ของแถวที่เลือกเป็นช่วงตามค่า I โดยใช้ค่า r = 1 (index แรก = 0):"
      ]
    },
    {
      "cell_type": "code",
      "execution_count": 13,
      "id": "01df20e8-ccff-454e-815f-0a67b532f1b4",
      "metadata": {
        "id": "01df20e8-ccff-454e-815f-0a67b532f1b4"
      },
      "outputs": [
        {
          "ename": "NameError",
          "evalue": "name 'sel_idx' is not defined",
          "output_type": "error",
          "traceback": [
            "\u001b[0;31m---------------------------------------------------------------------------\u001b[0m",
            "\u001b[0;31mNameError\u001b[0m                                 Traceback (most recent call last)",
            "Cell \u001b[0;32mIn[13], line 1\u001b[0m\n\u001b[0;32m----> 1\u001b[0m \u001b[43msel_idx\u001b[49m\n",
            "\u001b[0;31mNameError\u001b[0m: name 'sel_idx' is not defined"
          ]
        }
      ],
      "source": [
        "sel_idx"
      ]
    },
    {
      "cell_type": "markdown",
      "id": "41e03024-7daf-4c73-beb9-e69aa1e1d776",
      "metadata": {
        "id": "41e03024-7daf-4c73-beb9-e69aa1e1d776"
      },
      "source": [
        "\\\n",
        "ตรวจสอบจำนวนตัวอย่างที่ได้:"
      ]
    },
    {
      "cell_type": "code",
      "execution_count": null,
      "id": "1026d1de-f256-496c-b8c7-3c074631016a",
      "metadata": {
        "id": "1026d1de-f256-496c-b8c7-3c074631016a"
      },
      "outputs": [],
      "source": [
        "len(sel_idx)"
      ]
    },
    {
      "cell_type": "markdown",
      "id": "45f1dc4b-e838-4232-84f1-b880ef8d6048",
      "metadata": {
        "id": "45f1dc4b-e838-4232-84f1-b880ef8d6048"
      },
      "source": [
        "\\\n",
        "เนื่องจากจำนวนตัวอย่างเกินมา 2 จะตัดให้เหลือ 100 เท่านั้น:"
      ]
    },
    {
      "cell_type": "code",
      "execution_count": null,
      "id": "3e250b77-c916-4465-b98f-10d76dd08e9b",
      "metadata": {
        "id": "3e250b77-c916-4465-b98f-10d76dd08e9b"
      },
      "outputs": [],
      "source": [
        "sel_idx = sel_idx[0:100]\n",
        "len(sel_idx)"
      ]
    },
    {
      "cell_type": "markdown",
      "id": "6c4199d1-4f25-49bf-ac10-fe7e5ff0fafa",
      "metadata": {
        "id": "6c4199d1-4f25-49bf-ac10-fe7e5ff0fafa"
      },
      "source": [
        "\\\n",
        "เลือกตัวอย่าง:"
      ]
    },
    {
      "cell_type": "code",
      "execution_count": null,
      "id": "b4b65aee-b5a4-44f5-aa73-2f06f8a44285",
      "metadata": {
        "id": "b4b65aee-b5a4-44f5-aa73-2f06f8a44285"
      },
      "outputs": [],
      "source": [
        "sample_sys_rand = df.iloc[sel_idx,]\n",
        "sample_sys_rand.head()"
      ]
    },
    {
      "cell_type": "markdown",
      "id": "fa78f669-75a6-4125-89d2-6bd005a82c7a",
      "metadata": {
        "id": "fa78f669-75a6-4125-89d2-6bd005a82c7a"
      },
      "source": [
        "\\\n",
        "หาค่าเฉลี่ยอายุจากตัวอย่างที่ได้:"
      ]
    },
    {
      "cell_type": "code",
      "execution_count": null,
      "id": "7588306e-4de4-4228-95da-e3966bf3b46d",
      "metadata": {
        "id": "7588306e-4de4-4228-95da-e3966bf3b46d"
      },
      "outputs": [],
      "source": [
        "sample_sys_rand.Age.mean()"
      ]
    },
    {
      "cell_type": "code",
      "execution_count": null,
      "id": "ff892731-effd-4589-8bdf-368eb9b157d6",
      "metadata": {
        "id": "ff892731-effd-4589-8bdf-368eb9b157d6"
      },
      "outputs": [],
      "source": [
        "print(f\"ค่าเฉลี่ยอายุตัวอย่าง = {sample_sys_rand.Age.mean(): .2f} ± {sample_sys_rand.Age.std(): .2f}\")\n",
        "print(f\"ค่าเฉลี่ยอายุประชากร = {df.Age.mean(): .2f} ± {df.Age.std(): .2f}\")"
      ]
    },
    {
      "cell_type": "markdown",
      "id": "e6e552c3-264d-479d-8ad3-e9110b468304",
      "metadata": {
        "id": "e6e552c3-264d-479d-8ad3-e9110b468304"
      },
      "source": [
        "####   \n",
        "#### 3. เลือกตัวอย่างขนาด n = 100 โดยใช้การสุ่มตัวอย่างแบบชั้นภูมิ (stratified sampling)"
      ]
    },
    {
      "cell_type": "markdown",
      "id": "682cdd6a-e9b8-401b-9789-ad3660fbd33f",
      "metadata": {
        "id": "682cdd6a-e9b8-401b-9789-ad3660fbd33f"
      },
      "source": [
        "ในที่นี้จะแบ่งชั้นภูมิตามคอลัมน์ Pclass ดังนั้นจะแบ่งได้ 3 ชั้นภูมิ  \n",
        "เบื้องต้นหาจำนวนผู้โดยสารของแต่ละชั้นภูมิ:  "
      ]
    },
    {
      "cell_type": "code",
      "execution_count": null,
      "id": "fc16faa3-4d06-4180-a126-f62e82925c00",
      "metadata": {
        "id": "fc16faa3-4d06-4180-a126-f62e82925c00"
      },
      "outputs": [],
      "source": [
        "df.Pclass.value_counts()"
      ]
    },
    {
      "cell_type": "markdown",
      "id": "624de606-7edb-418d-aa2a-8e67d6fae227",
      "metadata": {
        "id": "624de606-7edb-418d-aa2a-8e67d6fae227"
      },
      "source": [
        "จะเห็นได้ว่าผู้โดยสาร Pclass=3 มีจำนวนมากกว่า 1 และ 2  \n",
        "หากคิดเป็นร้อยละของจำนวนตัวอย่างในแต่ละ Pclass จะได้ว่า:  "
      ]
    },
    {
      "cell_type": "code",
      "execution_count": null,
      "id": "12ff9b5f-d027-4206-87c5-8f02e4d2d841",
      "metadata": {
        "id": "12ff9b5f-d027-4206-87c5-8f02e4d2d841"
      },
      "outputs": [],
      "source": [
        "np.round(df.Pclass.value_counts()/df.shape[0] * 100)"
      ]
    },
    {
      "cell_type": "markdown",
      "id": "9382006d-dbaa-47ce-be87-8e8a27795ae9",
      "metadata": {
        "id": "9382006d-dbaa-47ce-be87-8e8a27795ae9"
      },
      "source": [
        "\\\n",
        "เนื่องจากเป้าหมายต้องการตัวอย่างขนาด n = 100 จะต้องทำการสุ่มเลือกหน่วยตัวอย่างจาก Pclass 1, 2 และ 3 จำนวน 24, 21 และ 55 หน่วยตัวอย่างตามลำดับ:  "
      ]
    },
    {
      "cell_type": "code",
      "execution_count": null,
      "id": "8011bb46-b949-4799-9983-0ba7db2c88f7",
      "metadata": {
        "id": "8011bb46-b949-4799-9983-0ba7db2c88f7"
      },
      "outputs": [],
      "source": [
        "sample_strat_pclass = pd.concat([\n",
        "    df[df['Pclass']==1].sample(n=26),\n",
        "    df[df['Pclass']==2].sample(n=24),\n",
        "    df[df['Pclass']==3].sample(n=50)\n",
        "])\n",
        "sample_strat_pclass.info()"
      ]
    },
    {
      "cell_type": "markdown",
      "id": "7eb05258-33ec-4c8c-9b52-f76115086d45",
      "metadata": {
        "id": "7eb05258-33ec-4c8c-9b52-f76115086d45"
      },
      "source": [
        "\\\n",
        "หาค่าเฉลี่ยอายุจากตัวอย่างที่ได้:"
      ]
    },
    {
      "cell_type": "code",
      "execution_count": null,
      "id": "6f8998a1-22fb-4634-a1a7-1f05e221d2d4",
      "metadata": {
        "id": "6f8998a1-22fb-4634-a1a7-1f05e221d2d4"
      },
      "outputs": [],
      "source": [
        "sample_strat_pclass.Age.mean()"
      ]
    },
    {
      "cell_type": "code",
      "execution_count": null,
      "id": "f175ea26-9fcd-48f6-acb2-98a16ab73d16",
      "metadata": {
        "id": "f175ea26-9fcd-48f6-acb2-98a16ab73d16"
      },
      "outputs": [],
      "source": [
        "print(f\"ค่าเฉลี่ยอายุตัวอย่าง = {sample_strat_pclass.Age.mean(): .2f} ± {sample_sys_rand.Age.std(): .2f}\")\n",
        "print(f\"ค่าเฉลี่ยอายุประชากร = {df.Age.mean(): .2f} ± {df.Age.std(): .2f}\")"
      ]
    },
    {
      "cell_type": "markdown",
      "id": "a1e769c9-6249-412c-9801-534738c7f23e",
      "metadata": {
        "id": "a1e769c9-6249-412c-9801-534738c7f23e"
      },
      "source": [
        "####   \n",
        "#### 4. เลือกตัวอย่างโดยใช้การสุ่มตัวอย่างแบบกลุ่ม (cluster sampling)"
      ]
    },
    {
      "cell_type": "markdown",
      "id": "d55a7745-1049-451d-9303-ba103445ac4a",
      "metadata": {
        "id": "d55a7745-1049-451d-9303-ba103445ac4a"
      },
      "source": [
        "การเลือกแบบนี้จะทำการกำหนดขนาด n ไม่ได้เนื่องจากต้องเลือกทั้งกลุ่ม\n",
        "ในที่นี้จะแบ่งกลุ่มตามคอลัมน์ Pclass ดังนั้นจะแบ่งได้ 3 กลุ่ม  \n",
        "และเลือกกลุ่ม Pclass 1, 2 หรือ 3 ทั้งกลุ่ม:"
      ]
    },
    {
      "cell_type": "code",
      "execution_count": null,
      "id": "10196489-4dda-400d-9257-d7a7bc241d54",
      "metadata": {
        "id": "10196489-4dda-400d-9257-d7a7bc241d54"
      },
      "outputs": [],
      "source": [
        "df.Pclass.value_counts()"
      ]
    },
    {
      "cell_type": "markdown",
      "id": "0ecd5138-9731-4d2a-8a3f-c80819d32697",
      "metadata": {
        "id": "0ecd5138-9731-4d2a-8a3f-c80819d32697"
      },
      "source": [
        "ทำการสุ่มมา 1 กลุ่มแล้วเลือกตัวอย่างทั้งกลุ่มจากที่สุ่มมา"
      ]
    },
    {
      "cell_type": "code",
      "execution_count": null,
      "id": "97d7f818-a9e2-4dc2-ad61-b77410822820",
      "metadata": {
        "id": "97d7f818-a9e2-4dc2-ad61-b77410822820"
      },
      "outputs": [],
      "source": [
        "import random\n",
        "sel_pclass = random.randint(1,3)\n",
        "print(sel_pclass)"
      ]
    },
    {
      "cell_type": "code",
      "execution_count": null,
      "id": "9d71aaac-2421-44c1-b9fd-a535791a0d6f",
      "metadata": {
        "id": "9d71aaac-2421-44c1-b9fd-a535791a0d6f"
      },
      "outputs": [],
      "source": [
        "sample_cluster = df[df.Pclass==sel_pclass]"
      ]
    },
    {
      "cell_type": "markdown",
      "id": "10cb02e1-bfd4-43b8-88e5-57240fe52057",
      "metadata": {
        "id": "10cb02e1-bfd4-43b8-88e5-57240fe52057"
      },
      "source": [
        "\\\n",
        "หาค่าเฉลี่ยอายุจากตัวอย่างที่ได้:"
      ]
    },
    {
      "cell_type": "code",
      "execution_count": null,
      "id": "0aae778f-767e-47f3-bf1b-9872ec639756",
      "metadata": {
        "id": "0aae778f-767e-47f3-bf1b-9872ec639756"
      },
      "outputs": [],
      "source": [
        "print(f\"ค่าเฉลี่ยอายุตัวอย่าง = {sample_cluster.Age.mean(): .2f} ± {sample_cluster.Age.std(): .2f}\")\n",
        "print(f\"ค่าเฉลี่ยอายุประชากร = {df.Age.mean(): .2f} ± {df.Age.std(): .2f}\")"
      ]
    },
    {
      "cell_type": "markdown",
      "id": "9515d6d1-46a5-411b-b3f0-4aa3c37a3c77",
      "metadata": {
        "id": "9515d6d1-46a5-411b-b3f0-4aa3c37a3c77"
      },
      "source": [
        "\\\n",
        "หากสุ่มได้ Pclass=3:"
      ]
    },
    {
      "cell_type": "code",
      "execution_count": null,
      "id": "a9c9c3a5-fbc7-4c10-bfdc-f67c498e2b1d",
      "metadata": {
        "id": "a9c9c3a5-fbc7-4c10-bfdc-f67c498e2b1d"
      },
      "outputs": [],
      "source": [
        "sample_cluster_pclass3 = df[df.Pclass==3]\n",
        "print(f\"ค่าเฉลี่ยอายุตัวอย่าง = {sample_cluster_pclass3.Age.mean(): .2f} ± {sample_cluster_pclass3.Age.std(): .2f}\")\n",
        "print(f\"ค่าเฉลี่ยอายุประชากร = {df.Age.mean(): .2f} ± {df.Age.std(): .2f}\")"
      ]
    },
    {
      "cell_type": "markdown",
      "id": "99ee6e8b-56ec-4e1f-9a96-976be6c721f9",
      "metadata": {
        "id": "99ee6e8b-56ec-4e1f-9a96-976be6c721f9"
      },
      "source": [
        "\\\n",
        "หากสุ่มได้ Pclass=1:"
      ]
    },
    {
      "cell_type": "code",
      "execution_count": null,
      "id": "d6bf9a5c-8502-45d7-99ed-53c10d1bf6b3",
      "metadata": {
        "id": "d6bf9a5c-8502-45d7-99ed-53c10d1bf6b3"
      },
      "outputs": [],
      "source": [
        "sample_cluster_pclass1 = df[df.Pclass==1]\n",
        "print(f\"ค่าเฉลี่ยอายุตัวอย่าง = {sample_cluster_pclass1.Age.mean(): .2f} ± {sample_cluster_pclass1.Age.std(): .2f}\")\n",
        "print(f\"ค่าเฉลี่ยอายุประชากร = {df.Age.mean(): .2f} ± {df.Age.std(): .2f}\")"
      ]
    },
    {
      "cell_type": "markdown",
      "id": "73321b44-0a63-4eaa-9ede-475c655fbfd9",
      "metadata": {
        "id": "73321b44-0a63-4eaa-9ede-475c655fbfd9"
      },
      "source": [
        "\\\n",
        "จะเห็นได้ว่าการเลือก Pclass=1 และ 3 ค่าเฉลี่ยอายุจะมีความคลาดเคลื่อนจากประชากรค่อนข้างมาก"
      ]
    },
    {
      "cell_type": "code",
      "execution_count": null,
      "id": "7427b067-c15d-4de2-b263-9a8e91ce23f1",
      "metadata": {
        "id": "7427b067-c15d-4de2-b263-9a8e91ce23f1"
      },
      "outputs": [],
      "source": []
    }
  ],
  "metadata": {
    "colab": {
      "provenance": []
    },
    "kernelspec": {
      "display_name": "Python 3 (ipykernel)",
      "language": "python",
      "name": "python3"
    },
    "language_info": {
      "codemirror_mode": {
        "name": "ipython",
        "version": 3
      },
      "file_extension": ".py",
      "mimetype": "text/x-python",
      "name": "python",
      "nbconvert_exporter": "python",
      "pygments_lexer": "ipython3",
      "version": "3.11.5"
    }
  },
  "nbformat": 4,
  "nbformat_minor": 5
}
