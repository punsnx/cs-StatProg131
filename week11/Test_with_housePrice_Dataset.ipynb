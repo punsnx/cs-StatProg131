{
  "cells": [
    {
      "cell_type": "markdown",
      "metadata": {
        "id": "UMJHOSo3GSDt"
      },
      "source": [
        "## **ตัวอย่างการทดสอบค่าเฉลี่ยและความแปรปรวนกับชุดข้อมูล**\n",
        "\n"
      ]
    },
    {
      "cell_type": "markdown",
      "metadata": {
        "id": "hedAkjpMupbb"
      },
      "source": [
        "จากชุดข้อมูล housePrice.csv ซึ่งเป็นข้อมูลราคาอสังหาริมทรัพย์ของเมืองย่านธุรกิจแห่งหนึ่ง โดยแต่ละคอลัมน์มีรายละเอียดดังนี้"
      ]
    },
    {
      "cell_type": "markdown",
      "metadata": {
        "id": "aZZVi_iSHdZg"
      },
      "source": [
        "trans_date: วันที่ได้มีการซื้อขาย (yyyy/mm)  \n",
        "age: อายุของที่อยู่อาศัย (ปี)  \n",
        "age_group: การจัดกลุ่มที่อยู่อาศัยตามอายุ (new: 1-10 ปี, moderate: >10-25 ปี, old: >25 ปี)  \n",
        "mrt_dist: ระยะห่างจากสถานีรถไฟฟ้า mrt (เมตร)   \n",
        "con_num:  จำนวนร้านสะดวกซื้อในบริเวณ 500 เมตร (ร้าน)  \n",
        "latitude:  ละติจูด  \n",
        "longitude:  ลองจิจูด  \n",
        "price: ราคา (*10000 ดอลลาร์)  \n"
      ]
    },
    {
      "cell_type": "markdown",
      "metadata": {
        "id": "X2IyZhBEJkkm"
      },
      "source": [
        "*จงตอบคำถามข้อ 1 - 4*"
      ]
    },
    {
      "cell_type": "markdown",
      "metadata": {
        "id": "vcMDJEguMySH"
      },
      "source": [
        "\\\n",
        "คำสั่ง import library:"
      ]
    },
    {
      "cell_type": "code",
      "execution_count": 3,
      "metadata": {
        "id": "0A5YnAMhwl4v"
      },
      "outputs": [],
      "source": [
        "import numpy as np\n",
        "import pandas as pd\n",
        "import seaborn as sns\n",
        "from scipy import stats\n",
        "from statsmodels.stats.weightstats import ztest"
      ]
    },
    {
      "cell_type": "code",
      "execution_count": 2,
      "metadata": {
        "colab": {
          "base_uri": "https://localhost:8080/"
        },
        "id": "QLVQChM13iMq",
        "outputId": "8e70b327-b155-4b37-f2bc-0f3e1ebdb087"
      },
      "outputs": [
        {
          "name": "stdout",
          "output_type": "stream",
          "text": [
            "Collecting scikit-posthocs\n",
            "  Downloading scikit_posthocs-0.8.1-py3-none-any.whl.metadata (5.9 kB)\n",
            "Requirement already satisfied: numpy in /Users/sirisuk/anaconda3/envs/ProgStat_Py3_11/lib/python3.11/site-packages (from scikit-posthocs) (1.26.2)\n",
            "Requirement already satisfied: scipy in /Users/sirisuk/anaconda3/envs/ProgStat_Py3_11/lib/python3.11/site-packages (from scikit-posthocs) (1.11.4)\n",
            "Requirement already satisfied: statsmodels in /Users/sirisuk/anaconda3/envs/ProgStat_Py3_11/lib/python3.11/site-packages (from scikit-posthocs) (0.14.1)\n",
            "Requirement already satisfied: pandas>=0.20.0 in /Users/sirisuk/anaconda3/envs/ProgStat_Py3_11/lib/python3.11/site-packages (from scikit-posthocs) (2.1.3)\n",
            "Requirement already satisfied: seaborn in /Users/sirisuk/anaconda3/envs/ProgStat_Py3_11/lib/python3.11/site-packages (from scikit-posthocs) (0.13.0)\n",
            "Requirement already satisfied: matplotlib in /Users/sirisuk/anaconda3/envs/ProgStat_Py3_11/lib/python3.11/site-packages (from scikit-posthocs) (3.8.2)\n",
            "Requirement already satisfied: python-dateutil>=2.8.2 in /Users/sirisuk/anaconda3/envs/ProgStat_Py3_11/lib/python3.11/site-packages (from pandas>=0.20.0->scikit-posthocs) (2.8.2)\n",
            "Requirement already satisfied: pytz>=2020.1 in /Users/sirisuk/anaconda3/envs/ProgStat_Py3_11/lib/python3.11/site-packages (from pandas>=0.20.0->scikit-posthocs) (2023.3.post1)\n",
            "Requirement already satisfied: tzdata>=2022.1 in /Users/sirisuk/anaconda3/envs/ProgStat_Py3_11/lib/python3.11/site-packages (from pandas>=0.20.0->scikit-posthocs) (2023.3)\n",
            "Requirement already satisfied: contourpy>=1.0.1 in /Users/sirisuk/anaconda3/envs/ProgStat_Py3_11/lib/python3.11/site-packages (from matplotlib->scikit-posthocs) (1.2.0)\n",
            "Requirement already satisfied: cycler>=0.10 in /Users/sirisuk/anaconda3/envs/ProgStat_Py3_11/lib/python3.11/site-packages (from matplotlib->scikit-posthocs) (0.12.1)\n",
            "Requirement already satisfied: fonttools>=4.22.0 in /Users/sirisuk/anaconda3/envs/ProgStat_Py3_11/lib/python3.11/site-packages (from matplotlib->scikit-posthocs) (4.45.1)\n",
            "Requirement already satisfied: kiwisolver>=1.3.1 in /Users/sirisuk/anaconda3/envs/ProgStat_Py3_11/lib/python3.11/site-packages (from matplotlib->scikit-posthocs) (1.4.5)\n",
            "Requirement already satisfied: packaging>=20.0 in /Users/sirisuk/anaconda3/envs/ProgStat_Py3_11/lib/python3.11/site-packages (from matplotlib->scikit-posthocs) (23.2)\n",
            "Requirement already satisfied: pillow>=8 in /Users/sirisuk/anaconda3/envs/ProgStat_Py3_11/lib/python3.11/site-packages (from matplotlib->scikit-posthocs) (10.1.0)\n",
            "Requirement already satisfied: pyparsing>=2.3.1 in /Users/sirisuk/anaconda3/envs/ProgStat_Py3_11/lib/python3.11/site-packages (from matplotlib->scikit-posthocs) (3.1.1)\n",
            "Requirement already satisfied: patsy>=0.5.4 in /Users/sirisuk/anaconda3/envs/ProgStat_Py3_11/lib/python3.11/site-packages (from statsmodels->scikit-posthocs) (0.5.6)\n",
            "Requirement already satisfied: six in /Users/sirisuk/anaconda3/envs/ProgStat_Py3_11/lib/python3.11/site-packages (from patsy>=0.5.4->statsmodels->scikit-posthocs) (1.16.0)\n",
            "Downloading scikit_posthocs-0.8.1-py3-none-any.whl (32 kB)\n",
            "Installing collected packages: scikit-posthocs\n",
            "Successfully installed scikit-posthocs-0.8.1\n",
            "Note: you may need to restart the kernel to use updated packages.\n"
          ]
        }
      ],
      "source": [
        "%pip install scikit-posthocs"
      ]
    },
    {
      "cell_type": "markdown",
      "metadata": {
        "id": "ughlmMahM9YI"
      },
      "source": [
        "\\\n",
        "คำสั่งการอ่านชุดข้อมูล:"
      ]
    },
    {
      "cell_type": "markdown",
      "metadata": {},
      "source": [
        "age condo_age\n",
        "con_num convenience "
      ]
    },
    {
      "cell_type": "code",
      "execution_count": 4,
      "metadata": {
        "colab": {
          "base_uri": "https://localhost:8080/",
          "height": 206
        },
        "id": "D7CHQ2DdsUlw",
        "outputId": "75a80706-b213-466d-fb92-3f441ad6e9ee"
      },
      "outputs": [
        {
          "data": {
            "text/html": [
              "<div>\n",
              "<style scoped>\n",
              "    .dataframe tbody tr th:only-of-type {\n",
              "        vertical-align: middle;\n",
              "    }\n",
              "\n",
              "    .dataframe tbody tr th {\n",
              "        vertical-align: top;\n",
              "    }\n",
              "\n",
              "    .dataframe thead th {\n",
              "        text-align: right;\n",
              "    }\n",
              "</style>\n",
              "<table border=\"1\" class=\"dataframe\">\n",
              "  <thead>\n",
              "    <tr style=\"text-align: right;\">\n",
              "      <th></th>\n",
              "      <th>trans_date</th>\n",
              "      <th>age</th>\n",
              "      <th>age_group</th>\n",
              "      <th>mrt_dist</th>\n",
              "      <th>con_num</th>\n",
              "      <th>latitude</th>\n",
              "      <th>longitude</th>\n",
              "      <th>price</th>\n",
              "    </tr>\n",
              "  </thead>\n",
              "  <tbody>\n",
              "    <tr>\n",
              "      <th>0</th>\n",
              "      <td>2012/10</td>\n",
              "      <td>0.0</td>\n",
              "      <td>new</td>\n",
              "      <td>338.9679</td>\n",
              "      <td>9</td>\n",
              "      <td>24.96853</td>\n",
              "      <td>121.54413</td>\n",
              "      <td>50.8</td>\n",
              "    </tr>\n",
              "    <tr>\n",
              "      <th>1</th>\n",
              "      <td>2012/10</td>\n",
              "      <td>0.0</td>\n",
              "      <td>new</td>\n",
              "      <td>208.3905</td>\n",
              "      <td>6</td>\n",
              "      <td>24.95618</td>\n",
              "      <td>121.53844</td>\n",
              "      <td>45.7</td>\n",
              "    </tr>\n",
              "    <tr>\n",
              "      <th>2</th>\n",
              "      <td>2012/10</td>\n",
              "      <td>0.0</td>\n",
              "      <td>new</td>\n",
              "      <td>185.4296</td>\n",
              "      <td>0</td>\n",
              "      <td>24.97110</td>\n",
              "      <td>121.53170</td>\n",
              "      <td>52.2</td>\n",
              "    </tr>\n",
              "    <tr>\n",
              "      <th>3</th>\n",
              "      <td>2012/10</td>\n",
              "      <td>0.0</td>\n",
              "      <td>new</td>\n",
              "      <td>208.3905</td>\n",
              "      <td>6</td>\n",
              "      <td>24.95618</td>\n",
              "      <td>121.53844</td>\n",
              "      <td>44.0</td>\n",
              "    </tr>\n",
              "    <tr>\n",
              "      <th>4</th>\n",
              "      <td>2012/10</td>\n",
              "      <td>3.2</td>\n",
              "      <td>new</td>\n",
              "      <td>489.8821</td>\n",
              "      <td>8</td>\n",
              "      <td>24.97017</td>\n",
              "      <td>121.54494</td>\n",
              "      <td>43.2</td>\n",
              "    </tr>\n",
              "  </tbody>\n",
              "</table>\n",
              "</div>"
            ],
            "text/plain": [
              "  trans_date  age age_group  mrt_dist  con_num  latitude  longitude  price\n",
              "0    2012/10  0.0       new  338.9679        9  24.96853  121.54413   50.8\n",
              "1    2012/10  0.0       new  208.3905        6  24.95618  121.53844   45.7\n",
              "2    2012/10  0.0       new  185.4296        0  24.97110  121.53170   52.2\n",
              "3    2012/10  0.0       new  208.3905        6  24.95618  121.53844   44.0\n",
              "4    2012/10  3.2       new  489.8821        8  24.97017  121.54494   43.2"
            ]
          },
          "execution_count": 4,
          "metadata": {},
          "output_type": "execute_result"
        }
      ],
      "source": [
        "df = pd.read_csv(\"https://raw.githubusercontent.com/ThammakornS/ProgStat/main/dataset/housePrice.csv\")\n",
        "df.head()"
      ]
    },
    {
      "cell_type": "markdown",
      "metadata": {
        "id": "haNUcI4keK0G"
      },
      "source": [
        "### \\*\\*หมายเหตุ  \n",
        "ในทางปฏิบัติ การนำวิธีทางสถิติไปใช้ในการวิเคราะห์ค่า μ ข้อมูลจริง หากไม่ทราบ σ จะพิจารณาใช้การแจกแจงแบบ t แม้ว่าตัวอย่างจะมีขนาดมากกว่า 30 ก็ตาม  \n",
        "***สำหรับการสอบให้นิสิตยึดตามทฤษฎีที่ได้เรียน***"
      ]
    },
    {
      "cell_type": "code",
      "execution_count": 10,
      "metadata": {},
      "outputs": [
        {
          "data": {
            "text/plain": [
              "3312"
            ]
          },
          "execution_count": 10,
          "metadata": {},
          "output_type": "execute_result"
        }
      ],
      "source": [
        "df.size"
      ]
    },
    {
      "cell_type": "markdown",
      "metadata": {
        "id": "LbSj8-UcNF_G"
      },
      "source": [
        "\\\n",
        "### 1. ค่าเฉลี่ยราคา(price) ของกลุ่มที่อยู่อาศัยอายุน้อย(new) มีค่ามากกว่า 45 (*10000 ดอลลาร์) อย่างมีนัยสำคัญหรือไม่ที่ระดับนัยสำคัญ 0.05 หากกำหนดให้ราคาของที่อยู่อาศัยมีการแจกแจงแบบปกติ"
      ]
    },
    {
      "cell_type": "markdown",
      "metadata": {
        "id": "w5Mi63lT1ESG"
      },
      "source": [
        "- หากหาค่าเฉลี่ยของราคาจะได้ค่า 46.61 แต่ค่าส่วนเบี่ยงเบนมาตราฐานมีค่ามาก ซึ่งแสดงว่าข้อมูลมีการกระจายมาก"
      ]
    },
    {
      "cell_type": "code",
      "execution_count": 11,
      "metadata": {
        "colab": {
          "base_uri": "https://localhost:8080/"
        },
        "id": "Ixb_Lw45yYyS",
        "outputId": "5da6824c-90ca-4985-de5b-ff8709428d4b"
      },
      "outputs": [
        {
          "data": {
            "text/plain": [
              "46.608181818181826"
            ]
          },
          "execution_count": 11,
          "metadata": {},
          "output_type": "execute_result"
        }
      ],
      "source": [
        "np.mean(df.price[df.age_group==\"new\"]) #หรือ df.price[df.age_group==\"new\"].mean()"
      ]
    },
    {
      "cell_type": "code",
      "execution_count": 12,
      "metadata": {
        "colab": {
          "base_uri": "https://localhost:8080/"
        },
        "id": "Br5cBkvPz8dP",
        "outputId": "2a410f23-fe83-402e-99b2-e8de188877ba"
      },
      "outputs": [
        {
          "data": {
            "text/plain": [
              "12.030886335664746"
            ]
          },
          "execution_count": 12,
          "metadata": {},
          "output_type": "execute_result"
        }
      ],
      "source": [
        "np.std(df.price[df.age_group==\"new\"], ddof=1) #หรือ df.price[df.age_group==\"new\"].std(ddof=1)"
      ]
    },
    {
      "cell_type": "markdown",
      "metadata": {
        "id": "C86D4dDwQ-Wj"
      },
      "source": [
        "- ตั้งสมมติฐาน"
      ]
    },
    {
      "cell_type": "markdown",
      "metadata": {
        "id": "6_dA28OaRCCq"
      },
      "source": [
        "กำหนดให้ค่า μ คือค่าเฉลี่ยราคาของกลุ่มที่อยู่อาศัยอายุน้อย"
      ]
    },
    {
      "cell_type": "markdown",
      "metadata": {
        "id": "EWNJPj7wRPWK"
      },
      "source": [
        "$H_{0}$: μ $\\le$ 45  \n",
        "$H_{1}$: μ $>$ 45"
      ]
    },
    {
      "cell_type": "markdown",
      "metadata": {
        "id": "Vxz7XccnWl-2"
      },
      "source": [
        "> ใช้ Z"
      ]
    },
    {
      "cell_type": "code",
      "execution_count": 13,
      "metadata": {
        "colab": {
          "base_uri": "https://localhost:8080/"
        },
        "id": "DMfGxhlxXmTF",
        "outputId": "18a8767b-0dbd-4d79-f158-a0be11cd7fa0"
      },
      "outputs": [
        {
          "data": {
            "text/plain": [
              "110"
            ]
          },
          "execution_count": 13,
          "metadata": {},
          "output_type": "execute_result"
        }
      ],
      "source": [
        "df.price[df.age_group==\"new\"].size"
      ]
    },
    {
      "cell_type": "code",
      "execution_count": 14,
      "metadata": {
        "colab": {
          "base_uri": "https://localhost:8080/"
        },
        "id": "4jwyQQzvWpOb",
        "outputId": "e6814d29-9342-4424-f6d2-b58998117683"
      },
      "outputs": [
        {
          "data": {
            "text/plain": [
              "(1.4019543309751223, 0.0804644423402599)"
            ]
          },
          "execution_count": 14,
          "metadata": {},
          "output_type": "execute_result"
        }
      ],
      "source": [
        "Z_cal, p_val_z = ztest(x1=df.price[df.age_group==\"new\"],\n",
        "                       value=45,\n",
        "                       alternative=\"larger\")\n",
        "Z_cal, p_val_z"
      ]
    },
    {
      "cell_type": "code",
      "execution_count": 16,
      "metadata": {},
      "outputs": [
        {
          "data": {
            "text/plain": [
              "1.6448536269514729"
            ]
          },
          "execution_count": 16,
          "metadata": {},
          "output_type": "execute_result"
        }
      ],
      "source": [
        "z_critical = stats.norm.isf(0.05)\n",
        "z_critical"
      ]
    },
    {
      "cell_type": "markdown",
      "metadata": {
        "id": "1j68FxDmXWgh"
      },
      "source": [
        "**ค่า p-val > 0.05 จึงยอมรับ $H_{0}$ และปฏิเสธ $H_{1}$ นั่นคือ ค่าเฉลี่ยราคาของกลุ่มที่อยู่อาศัยอายุน้อยมีค่าน้อยกว่าหรือเท่ากับ 45 (\\*10000 ดอลลาร์)**"
      ]
    },
    {
      "cell_type": "markdown",
      "metadata": {
        "id": "y807xzZ6WduJ"
      },
      "source": [
        "> ใช้ t"
      ]
    },
    {
      "cell_type": "code",
      "execution_count": 17,
      "metadata": {
        "id": "mURYAzC1sdw7"
      },
      "outputs": [
        {
          "data": {
            "text/plain": [
              "(1.4019543309751226, 0.08188511166737057)"
            ]
          },
          "execution_count": 17,
          "metadata": {},
          "output_type": "execute_result"
        }
      ],
      "source": [
        "t_cal, p_val = stats.ttest_1samp(a=df.price[df.age_group==\"new\"],\n",
        "                                 popmean=45,\n",
        "                                 alternative=\"greater\")\n",
        "t_cal, p_val"
      ]
    },
    {
      "cell_type": "markdown",
      "metadata": {
        "id": "00YlP-vITEJI"
      },
      "source": [
        "**ค่า p-val > 0.05 จึงยอมรับ $H_{0}$ และปฏิเสธ $H_{1}$ นั่นคือ ค่าเฉลี่ยราคาของกลุ่มที่อยู่อาศัยอายุน้อยมีค่าน้อยกว่าหรือเท่ากับ 45 (\\*10000 ดอลลาร์)**"
      ]
    },
    {
      "cell_type": "markdown",
      "metadata": {
        "id": "2WRTGAOCPtAP"
      },
      "source": [
        "\\\n",
        "### 2. ค่าเฉลี่ยราคา(price) ของกลุ่มที่อยู่อาศัยอายุน้อย(new) แตกต่างจากราคาของกลุ่มที่อยู่อาศัยอายุปานกลาง(moderate) อย่างมีนัยสำคัญหรือไม่ที่ระดับนัยสำคัญ 0.05 หากกำหนดให้ราคาของที่อยู่อาศัยมีการแจกแจงแบบปกติ และความแปรปรวนราคาใน 2 กลุ่มมีค่าเท่ากัน"
      ]
    },
    {
      "cell_type": "markdown",
      "metadata": {
        "id": "hLVQWVkC1Rfh"
      },
      "source": [
        "- แสดงค่าเฉลี่ยราคาของแต่ละกลุ่ม"
      ]
    },
    {
      "cell_type": "code",
      "execution_count": 18,
      "metadata": {
        "colab": {
          "base_uri": "https://localhost:8080/",
          "height": 175
        },
        "id": "_dpBt3m7sdoq",
        "outputId": "36891427-1029-48f1-a652-56cfc807190c"
      },
      "outputs": [
        {
          "data": {
            "text/html": [
              "<div>\n",
              "<style scoped>\n",
              "    .dataframe tbody tr th:only-of-type {\n",
              "        vertical-align: middle;\n",
              "    }\n",
              "\n",
              "    .dataframe tbody tr th {\n",
              "        vertical-align: top;\n",
              "    }\n",
              "\n",
              "    .dataframe thead th {\n",
              "        text-align: right;\n",
              "    }\n",
              "</style>\n",
              "<table border=\"1\" class=\"dataframe\">\n",
              "  <thead>\n",
              "    <tr style=\"text-align: right;\">\n",
              "      <th></th>\n",
              "      <th>price</th>\n",
              "    </tr>\n",
              "    <tr>\n",
              "      <th>age_group</th>\n",
              "      <th></th>\n",
              "    </tr>\n",
              "  </thead>\n",
              "  <tbody>\n",
              "    <tr>\n",
              "      <th>moderate</th>\n",
              "      <td>33.851872</td>\n",
              "    </tr>\n",
              "    <tr>\n",
              "      <th>new</th>\n",
              "      <td>46.608182</td>\n",
              "    </tr>\n",
              "    <tr>\n",
              "      <th>old</th>\n",
              "      <td>36.466667</td>\n",
              "    </tr>\n",
              "  </tbody>\n",
              "</table>\n",
              "</div>"
            ],
            "text/plain": [
              "               price\n",
              "age_group           \n",
              "moderate   33.851872\n",
              "new        46.608182\n",
              "old        36.466667"
            ]
          },
          "execution_count": 18,
          "metadata": {},
          "output_type": "execute_result"
        }
      ],
      "source": [
        "df.filter(['price', 'age_group']).groupby('age_group').mean()"
      ]
    },
    {
      "cell_type": "markdown",
      "metadata": {
        "id": "_OvrjS2WWTlz"
      },
      "source": [
        "- ตั้งสมมติฐาน"
      ]
    },
    {
      "cell_type": "markdown",
      "metadata": {
        "id": "bS-8gnQaWTlz"
      },
      "source": [
        "กำหนดให้ค่า $μ_{1}$: คือค่าเฉลี่ยราคาของกลุ่มที่อยู่อาศัยอายุน้อย และ $μ_{2}$: คือค่าเฉลี่ยราคาของกลุ่มที่อยู่อาศัยอายุปานกลาง"
      ]
    },
    {
      "cell_type": "markdown",
      "metadata": {
        "id": "qqcz6n0iWTl0"
      },
      "source": [
        "$H_{0}$: $μ_{1}$ $=$ $μ_{2}$  \n",
        "$H_{1}$: $μ_{1}$ $\\neq$ $μ_{2}$"
      ]
    },
    {
      "cell_type": "markdown",
      "metadata": {
        "id": "k1L1E2AyXvBK"
      },
      "source": [
        "> ใช้ Z"
      ]
    },
    {
      "cell_type": "code",
      "execution_count": 19,
      "metadata": {
        "colab": {
          "base_uri": "https://localhost:8080/"
        },
        "id": "O8_7HcN3Xx_l",
        "outputId": "dfb44220-c593-43d5-df9d-965b1990011d"
      },
      "outputs": [
        {
          "data": {
            "text/plain": [
              "(110, 187)"
            ]
          },
          "execution_count": 19,
          "metadata": {},
          "output_type": "execute_result"
        }
      ],
      "source": [
        "n1 = df.price[df.age_group==\"new\"].size\n",
        "n2 = df.price[df.age_group==\"moderate\"].size\n",
        "n1, n2"
      ]
    },
    {
      "cell_type": "code",
      "execution_count": 20,
      "metadata": {
        "id": "rx5t1-4PYOdy"
      },
      "outputs": [],
      "source": [
        "x_bar1 = np.mean(df.price[df.age_group==\"new\"])\n",
        "x_bar2 = np.mean(df.price[df.age_group==\"moderate\"])\n",
        "s1_2 = np.var(df.price[df.age_group==\"new\"], ddof=1)\n",
        "s2_2 = np.var(df.price[df.age_group==\"moderate\"], ddof=1)"
      ]
    },
    {
      "cell_type": "code",
      "execution_count": 21,
      "metadata": {
        "colab": {
          "base_uri": "https://localhost:8080/"
        },
        "id": "pyu0mxXwZMuu",
        "outputId": "2e4b59f7-e2da-4e7c-ba1b-87f522d667f2"
      },
      "outputs": [
        {
          "data": {
            "text/plain": [
              "8.606281382854645"
            ]
          },
          "execution_count": 21,
          "metadata": {},
          "output_type": "execute_result"
        }
      ],
      "source": [
        "z_cal = (x_bar1 - x_bar2) / np.sqrt((s1_2/n1) + (s2_2/n2))\n",
        "z_cal"
      ]
    },
    {
      "cell_type": "code",
      "execution_count": 22,
      "metadata": {
        "colab": {
          "base_uri": "https://localhost:8080/"
        },
        "id": "QuPQtN6TaRQQ",
        "outputId": "8e897601-8b36-4419-ad8a-05307a1c4591"
      },
      "outputs": [
        {
          "data": {
            "text/plain": [
              "7.546887588881558e-18"
            ]
          },
          "execution_count": 22,
          "metadata": {},
          "output_type": "execute_result"
        }
      ],
      "source": [
        "p_val_z = 2*stats.norm.sf(abs(z_cal))\n",
        "p_val_z"
      ]
    },
    {
      "cell_type": "markdown",
      "metadata": {
        "id": "gVSTlgbnaisX"
      },
      "source": [
        "**ค่า p-val $\\le$ 0.05 ปฏิเสธ $H_{0}$ และยอมรับ $H_{1}$ นั่นคือ ค่าเฉลี่ยราคา ของกลุ่มที่อยู่อาศัยอายุน้อย แตกต่างจากราคาของกลุ่มที่อยู่อาศัยอายุปานกลาง อย่างมีนัยสำคัญ**"
      ]
    },
    {
      "cell_type": "markdown",
      "metadata": {
        "id": "qrpXxEQNY99p"
      },
      "source": [
        "> ใช้ t"
      ]
    },
    {
      "cell_type": "code",
      "execution_count": 28,
      "metadata": {
        "colab": {
          "base_uri": "https://localhost:8080/"
        },
        "id": "oZNytu4Hsdlq",
        "outputId": "5b113ee3-82d7-467f-972d-2eeb3ac8f736"
      },
      "outputs": [
        {
          "data": {
            "text/plain": [
              "(8.462641073468749, 1.2386378981677407e-15)"
            ]
          },
          "execution_count": 28,
          "metadata": {},
          "output_type": "execute_result"
        }
      ],
      "source": [
        "t_cal, p_value = stats.ttest_ind(df.price[df.age_group==\"new\"], \n",
        "                                 df.price[df.age_group==\"moderate\"], \n",
        "                                 alternative=\"two-sided\",\n",
        "                                 equal_var=True)\n",
        "t_cal, p_value"
      ]
    },
    {
      "cell_type": "markdown",
      "metadata": {
        "id": "8tvAIB2SZGSt"
      },
      "source": [
        "**ค่า p-val $\\le$ 0.05 ปฏิเสธ $H_{0}$ และยอมรับ $H_{1}$ นั่นคือ ค่าเฉลี่ยราคา ของกลุ่มที่อยู่อาศัยอายุน้อย แตกต่างจากราคาของกลุ่มที่อยู่อาศัยอายุปานกลาง อย่างมีนัยสำคัญ**"
      ]
    },
    {
      "cell_type": "markdown",
      "metadata": {
        "id": "eTaHQN6JabeF"
      },
      "source": [
        "\\\n",
        "### 3. ค่าเฉลี่ยราคา(price) ของกลุ่มที่อยู่อาศัยอายุปานกลาง(moderate) แตกต่างจากราคาของกลุ่มที่อยู่อาศัยอายุมาก(old) อย่างมีนัยสำคัญหรือไม่ที่ระดับนัยสำคัญ 0.05 หากกำหนดให้ราคาของที่อยู่อาศัยมีการแจกแจงแบบปกติ และความแปรปรวนราคาใน 2 กลุ่มมีค่าเท่ากัน"
      ]
    },
    {
      "cell_type": "markdown",
      "metadata": {
        "id": "bRbM4zXwaySt"
      },
      "source": [
        "- แสดงค่าเฉลี่ยราคาของแต่ละกลุ่ม"
      ]
    },
    {
      "cell_type": "code",
      "execution_count": 24,
      "metadata": {
        "id": "LGTyDwBPayS3"
      },
      "outputs": [
        {
          "data": {
            "text/html": [
              "<div>\n",
              "<style scoped>\n",
              "    .dataframe tbody tr th:only-of-type {\n",
              "        vertical-align: middle;\n",
              "    }\n",
              "\n",
              "    .dataframe tbody tr th {\n",
              "        vertical-align: top;\n",
              "    }\n",
              "\n",
              "    .dataframe thead th {\n",
              "        text-align: right;\n",
              "    }\n",
              "</style>\n",
              "<table border=\"1\" class=\"dataframe\">\n",
              "  <thead>\n",
              "    <tr style=\"text-align: right;\">\n",
              "      <th></th>\n",
              "      <th>price</th>\n",
              "    </tr>\n",
              "    <tr>\n",
              "      <th>age_group</th>\n",
              "      <th></th>\n",
              "    </tr>\n",
              "  </thead>\n",
              "  <tbody>\n",
              "    <tr>\n",
              "      <th>moderate</th>\n",
              "      <td>33.851872</td>\n",
              "    </tr>\n",
              "    <tr>\n",
              "      <th>new</th>\n",
              "      <td>46.608182</td>\n",
              "    </tr>\n",
              "    <tr>\n",
              "      <th>old</th>\n",
              "      <td>36.466667</td>\n",
              "    </tr>\n",
              "  </tbody>\n",
              "</table>\n",
              "</div>"
            ],
            "text/plain": [
              "               price\n",
              "age_group           \n",
              "moderate   33.851872\n",
              "new        46.608182\n",
              "old        36.466667"
            ]
          },
          "execution_count": 24,
          "metadata": {},
          "output_type": "execute_result"
        }
      ],
      "source": [
        "df.filter(['price', 'age_group']).groupby('age_group').mean()"
      ]
    },
    {
      "cell_type": "markdown",
      "metadata": {
        "id": "PIl-Ec4NayS3"
      },
      "source": [
        "- ตั้งสมมติฐาน"
      ]
    },
    {
      "cell_type": "markdown",
      "metadata": {
        "id": "TWCpnuSZayS4"
      },
      "source": [
        "กำหนดให้ค่า $μ_{1}$: คือค่าเฉลี่ยราคาของกลุ่มที่อยู่อาศัยอายุปานกลาง และ $μ_{2}$: คือค่าเฉลี่ยราคาของกลุ่มที่อยู่อาศัยอายุมาก"
      ]
    },
    {
      "cell_type": "markdown",
      "metadata": {
        "id": "Z8KrUrqXayS4"
      },
      "source": [
        "$H_{0}$: $μ_{1}$ $=$ $μ_{2}$  \n",
        "$H_{1}$: $μ_{1}$ $\\neq$ $μ_{2}$"
      ]
    },
    {
      "cell_type": "markdown",
      "metadata": {
        "id": "E7GGb9F4atc4"
      },
      "source": [
        "> ใช้ Z"
      ]
    },
    {
      "cell_type": "code",
      "execution_count": 29,
      "metadata": {
        "colab": {
          "base_uri": "https://localhost:8080/"
        },
        "id": "D9-XDyvbatdP",
        "outputId": "5f3e0e37-2ffa-463f-c76d-95ccda6ba446"
      },
      "outputs": [
        {
          "data": {
            "text/plain": [
              "(187, 117)"
            ]
          },
          "execution_count": 29,
          "metadata": {},
          "output_type": "execute_result"
        }
      ],
      "source": [
        "n1 = df.price[df.age_group==\"moderate\"].size\n",
        "n2 = df.price[df.age_group==\"old\"].size\n",
        "n1, n2"
      ]
    },
    {
      "cell_type": "code",
      "execution_count": 30,
      "metadata": {
        "id": "qf4swIJ3atdQ"
      },
      "outputs": [],
      "source": [
        "x_bar1 = np.mean(df.price[df.age_group==\"moderate\"])\n",
        "x_bar2 = np.mean(df.price[df.age_group==\"old\"])\n",
        "s1_2 = np.var(df.price[df.age_group==\"moderate\"], ddof=1)\n",
        "s2_2 = np.var(df.price[df.age_group==\"old\"], ddof=1)"
      ]
    },
    {
      "cell_type": "code",
      "execution_count": 31,
      "metadata": {
        "colab": {
          "base_uri": "https://localhost:8080/"
        },
        "id": "D7o5x6QvatdQ",
        "outputId": "736fdbe4-dee7-41bf-a518-67ad4ce00ddb"
      },
      "outputs": [
        {
          "data": {
            "text/plain": [
              "-1.7484864399262139"
            ]
          },
          "execution_count": 31,
          "metadata": {},
          "output_type": "execute_result"
        }
      ],
      "source": [
        "z_cal = (x_bar1 - x_bar2) / np.sqrt((s1_2/n1) + (s2_2/n2))\n",
        "z_cal"
      ]
    },
    {
      "cell_type": "code",
      "execution_count": 32,
      "metadata": {
        "colab": {
          "base_uri": "https://localhost:8080/"
        },
        "id": "uaF1y3wgatdQ",
        "outputId": "8c26dd96-5ea5-41f7-c4c8-47ec1bd71681"
      },
      "outputs": [
        {
          "data": {
            "text/plain": [
              "0.08037983163022634"
            ]
          },
          "execution_count": 32,
          "metadata": {},
          "output_type": "execute_result"
        }
      ],
      "source": [
        "p_val_z = 2*stats.norm.sf(abs(z_cal))\n",
        "p_val_z"
      ]
    },
    {
      "cell_type": "markdown",
      "metadata": {
        "id": "NDRsQ9RbcMle"
      },
      "source": [
        "**ค่า p-val $>$ 0.05 ยอมรับ $H_{0}$ และปฏิเสธ $H_{1}$ นั่นคือ ค่าเฉลี่ยราคา ของกลุ่มที่อยู่อาศัยอายุปานกลาง ไม่แตกต่างจากราคาของกลุ่มที่อยู่อาศัยอายุมาก**"
      ]
    },
    {
      "cell_type": "markdown",
      "metadata": {
        "id": "OWlIqpJ6ayS4"
      },
      "source": [
        "> ใช้ t"
      ]
    },
    {
      "cell_type": "code",
      "execution_count": 33,
      "metadata": {
        "colab": {
          "base_uri": "https://localhost:8080/"
        },
        "id": "-UlduEGx3Oi5",
        "outputId": "6feba213-6678-4c30-f42e-4df38c76dd0d"
      },
      "outputs": [
        {
          "data": {
            "text/plain": [
              "(-1.7407621489654226, 0.08274374474438037)"
            ]
          },
          "execution_count": 33,
          "metadata": {},
          "output_type": "execute_result"
        }
      ],
      "source": [
        "t_cal, p_value = stats.ttest_ind(df.price[df.age_group==\"moderate\"], df.price[df.age_group==\"old\"], alternative=\"two-sided\")\n",
        "t_cal, p_value"
      ]
    },
    {
      "cell_type": "markdown",
      "metadata": {
        "id": "j5VnLayWbKOJ"
      },
      "source": [
        "**ค่า p-val $>$ 0.05 ยอมรับ $H_{0}$ และปฏิเสธ $H_{1}$ นั่นคือ ค่าเฉลี่ยราคา ของกลุ่มที่อยู่อาศัยอายุปานกลาง ไม่แตกต่างจากราคาของกลุ่มที่อยู่อาศัยอายุมาก**"
      ]
    },
    {
      "cell_type": "markdown",
      "metadata": {
        "id": "hH6O74AWTSss"
      },
      "source": [
        "\\\n",
        "#### <font color='blue'>การเปรียบเทียบค่าเฉลี่ยมากกว่า 2 กลุ่มโดยใช้ posthoc_ttest</font>\n",
        "\n"
      ]
    },
    {
      "cell_type": "code",
      "execution_count": 34,
      "metadata": {
        "id": "zrqLwNtNsdgD"
      },
      "outputs": [],
      "source": [
        "import scikit_posthocs as sp"
      ]
    },
    {
      "cell_type": "markdown",
      "metadata": {
        "id": "MPT2KtMFUY7f"
      },
      "source": [
        "- หาค่า p-value ในคำสั่งเดียว"
      ]
    },
    {
      "cell_type": "code",
      "execution_count": 35,
      "metadata": {
        "id": "5nJPRsNjsddR"
      },
      "outputs": [
        {
          "data": {
            "text/html": [
              "<div>\n",
              "<style scoped>\n",
              "    .dataframe tbody tr th:only-of-type {\n",
              "        vertical-align: middle;\n",
              "    }\n",
              "\n",
              "    .dataframe tbody tr th {\n",
              "        vertical-align: top;\n",
              "    }\n",
              "\n",
              "    .dataframe thead th {\n",
              "        text-align: right;\n",
              "    }\n",
              "</style>\n",
              "<table border=\"1\" class=\"dataframe\">\n",
              "  <thead>\n",
              "    <tr style=\"text-align: right;\">\n",
              "      <th></th>\n",
              "      <th>new</th>\n",
              "      <th>moderate</th>\n",
              "      <th>old</th>\n",
              "    </tr>\n",
              "  </thead>\n",
              "  <tbody>\n",
              "    <tr>\n",
              "      <th>new</th>\n",
              "      <td>1.000000e+00</td>\n",
              "      <td>1.238638e-15</td>\n",
              "      <td>2.722783e-09</td>\n",
              "    </tr>\n",
              "    <tr>\n",
              "      <th>moderate</th>\n",
              "      <td>1.238638e-15</td>\n",
              "      <td>1.000000e+00</td>\n",
              "      <td>8.274374e-02</td>\n",
              "    </tr>\n",
              "    <tr>\n",
              "      <th>old</th>\n",
              "      <td>2.722783e-09</td>\n",
              "      <td>8.274374e-02</td>\n",
              "      <td>1.000000e+00</td>\n",
              "    </tr>\n",
              "  </tbody>\n",
              "</table>\n",
              "</div>"
            ],
            "text/plain": [
              "                   new      moderate           old\n",
              "new       1.000000e+00  1.238638e-15  2.722783e-09\n",
              "moderate  1.238638e-15  1.000000e+00  8.274374e-02\n",
              "old       2.722783e-09  8.274374e-02  1.000000e+00"
            ]
          },
          "execution_count": 35,
          "metadata": {},
          "output_type": "execute_result"
        }
      ],
      "source": [
        "sp.posthoc_ttest(df, val_col='price', group_col='age_group')"
      ]
    },
    {
      "cell_type": "markdown",
      "metadata": {
        "id": "RMD4GsP3UtCk"
      },
      "source": [
        "\\\n",
        "### 4. ความแปรปรวนของราคา(price) ของกลุ่มที่อยู่อาศัยที่มีระยะห่างจากสถานี mrt(mrt_dist)น้อยกว่า 300 เมตร แตกต่างจากกลุ่มที่อยู่อาศัยที่มีระยะห่างจากสถานี mrt มากกว่า 1500 เมตรอย่างมีนัยสำคัญหรือไม่ที่ระดับนัยสำคัญ 0.05 หากกำหนดให้ราคาของที่อยู่อาศัยมีการแจกแจงแบบปกติ"
      ]
    },
    {
      "cell_type": "markdown",
      "metadata": {
        "id": "NbgqU3zu6HXU"
      },
      "source": [
        "- แสดงความแปรปรวนราคาของกลุ่มที่อยู่อาศัยที่มีระยะห่างจากสถานี mrt น้อยกว่า 300 เมตร"
      ]
    },
    {
      "cell_type": "code",
      "execution_count": 36,
      "metadata": {
        "colab": {
          "base_uri": "https://localhost:8080/"
        },
        "id": "ID4q73HF6a1N",
        "outputId": "35db8dc5-03f3-48aa-fbc8-f093b0a788fe"
      },
      "outputs": [
        {
          "data": {
            "text/plain": [
              "1      45.7\n",
              "2      52.2\n",
              "3      44.0\n",
              "5      38.4\n",
              "6      47.0\n",
              "       ... \n",
              "372    59.6\n",
              "385    48.0\n",
              "395    59.0\n",
              "396    58.1\n",
              "409    39.4\n",
              "Name: price, Length: 116, dtype: float64"
            ]
          },
          "execution_count": 36,
          "metadata": {},
          "output_type": "execute_result"
        }
      ],
      "source": [
        "near_mrt = df.price[df.mrt_dist < 300]\n",
        "near_mrt"
      ]
    },
    {
      "cell_type": "code",
      "execution_count": 37,
      "metadata": {
        "colab": {
          "base_uri": "https://localhost:8080/"
        },
        "id": "WUJ6Arb163wz",
        "outputId": "80d2d204-8306-4c67-e34b-1f1176034828"
      },
      "outputs": [
        {
          "data": {
            "text/plain": [
              "130.58102848575712"
            ]
          },
          "execution_count": 37,
          "metadata": {},
          "output_type": "execute_result"
        }
      ],
      "source": [
        "np.var(near_mrt, ddof=1)"
      ]
    },
    {
      "cell_type": "markdown",
      "metadata": {
        "id": "77YlnEsnWOlO"
      },
      "source": [
        "\\\n",
        "- แสดงความแปรปรวนราคาของกลุ่มที่อยู่อาศัยที่มีระยะห่างจากสถานี mrt มากกว่า 1500 เมตร"
      ]
    },
    {
      "cell_type": "code",
      "execution_count": 38,
      "metadata": {
        "colab": {
          "base_uri": "https://localhost:8080/"
        },
        "id": "grcdQPkh6LW4",
        "outputId": "b4be6782-1f4a-42cf-e8fe-b5891bd5d32c"
      },
      "outputs": [
        {
          "data": {
            "text/plain": [
              "12     18.6\n",
              "13     21.8\n",
              "14     24.8\n",
              "18     11.6\n",
              "19     12.9\n",
              "       ... \n",
              "394    31.3\n",
              "398    24.7\n",
              "400    18.3\n",
              "401    11.2\n",
              "402    20.9\n",
              "Name: price, Length: 99, dtype: float64"
            ]
          },
          "execution_count": 38,
          "metadata": {},
          "output_type": "execute_result"
        }
      ],
      "source": [
        "far_mrt = df.price[df.mrt_dist > 1500]\n",
        "far_mrt"
      ]
    },
    {
      "cell_type": "code",
      "execution_count": 39,
      "metadata": {
        "colab": {
          "base_uri": "https://localhost:8080/"
        },
        "id": "Mm-DORf66usl",
        "outputId": "01f03832-aff0-4242-bfe5-5771ba17fe80"
      },
      "outputs": [
        {
          "data": {
            "text/plain": [
              "47.19103896103897"
            ]
          },
          "execution_count": 39,
          "metadata": {},
          "output_type": "execute_result"
        }
      ],
      "source": [
        "np.var(far_mrt, ddof=1)"
      ]
    },
    {
      "cell_type": "markdown",
      "metadata": {
        "id": "xJ7SFmOcZs7C"
      },
      "source": [
        "- เปรียบเทียบการแจกแจงข้อมูลราคาของทั้ง 2 กลุ่ม"
      ]
    },
    {
      "cell_type": "code",
      "execution_count": 40,
      "metadata": {
        "id": "bLMidM5JWeRo"
      },
      "outputs": [
        {
          "data": {
            "text/html": [
              "<div>\n",
              "<style scoped>\n",
              "    .dataframe tbody tr th:only-of-type {\n",
              "        vertical-align: middle;\n",
              "    }\n",
              "\n",
              "    .dataframe tbody tr th {\n",
              "        vertical-align: top;\n",
              "    }\n",
              "\n",
              "    .dataframe thead th {\n",
              "        text-align: right;\n",
              "    }\n",
              "</style>\n",
              "<table border=\"1\" class=\"dataframe\">\n",
              "  <thead>\n",
              "    <tr style=\"text-align: right;\">\n",
              "      <th></th>\n",
              "      <th>Distance</th>\n",
              "      <th>Price</th>\n",
              "    </tr>\n",
              "  </thead>\n",
              "  <tbody>\n",
              "    <tr>\n",
              "      <th>0</th>\n",
              "      <td>near</td>\n",
              "      <td>45.7</td>\n",
              "    </tr>\n",
              "    <tr>\n",
              "      <th>1</th>\n",
              "      <td>near</td>\n",
              "      <td>52.2</td>\n",
              "    </tr>\n",
              "    <tr>\n",
              "      <th>2</th>\n",
              "      <td>near</td>\n",
              "      <td>44.0</td>\n",
              "    </tr>\n",
              "    <tr>\n",
              "      <th>3</th>\n",
              "      <td>near</td>\n",
              "      <td>38.4</td>\n",
              "    </tr>\n",
              "    <tr>\n",
              "      <th>4</th>\n",
              "      <td>near</td>\n",
              "      <td>47.0</td>\n",
              "    </tr>\n",
              "  </tbody>\n",
              "</table>\n",
              "</div>"
            ],
            "text/plain": [
              "  Distance  Price\n",
              "0     near   45.7\n",
              "1     near   52.2\n",
              "2     near   44.0\n",
              "3     near   38.4\n",
              "4     near   47.0"
            ]
          },
          "execution_count": 40,
          "metadata": {},
          "output_type": "execute_result"
        }
      ],
      "source": [
        "df_dist = pd.DataFrame({\n",
        "        'Distance':np.append(np.repeat('near',len(near_mrt)), np.repeat('far',len(far_mrt))),\n",
        "        'Price':np.append(near_mrt, far_mrt)\n",
        "        })\n",
        "df_dist.head()"
      ]
    },
    {
      "cell_type": "code",
      "execution_count": 41,
      "metadata": {
        "id": "sS9UgEreWeL-"
      },
      "outputs": [
        {
          "data": {
            "text/plain": [
              "<seaborn.axisgrid.FacetGrid at 0x13fa9e790>"
            ]
          },
          "execution_count": 41,
          "metadata": {},
          "output_type": "execute_result"
        },
        {
          "data": {
            "image/png": "[encoded data removed]",
            "text/plain": [
              "<Figure size 581.625x500 with 1 Axes>"
            ]
          },
          "metadata": {},
          "output_type": "display_data"
        }
      ],
      "source": [
        "sns.displot(data=df_dist,\n",
        "            x='Price',\n",
        "            kind='kde',\n",
        "            hue='Distance')"
      ]
    },
    {
      "cell_type": "markdown",
      "metadata": {
        "id": "OvUrqm8Pa-y5"
      },
      "source": [
        "- ตั้งสมมติฐาน"
      ]
    },
    {
      "cell_type": "markdown",
      "metadata": {
        "id": "MBTiyBH0a-y5"
      },
      "source": [
        "กำหนดให้  \n",
        "> $\\sigma_{1}^{2}$: คือค่าความแปรปรวนราคาของกลุ่มที่อยู่อาศัยที่มีระยะห่างจากสถานี mrt น้อยกว่า 300 เมตร  \n",
        "> $\\sigma_{2}^{2}$: คือค่าความแปรปรวนราคาของกลุ่มที่อยู่อาศัยที่มีระยะห่างจากสถานี mrt มากกว่า 1500 เมตร\n",
        "\n"
      ]
    },
    {
      "cell_type": "markdown",
      "metadata": {
        "id": "e0osDN3Ia-y6"
      },
      "source": [
        "$H_{0}$: $\\sigma_{1}^{2} / \\sigma_{2}^{2}$ $=$ 1   \n",
        "$H_{1}$: $\\sigma_{1}^{2} / \\sigma_{2}^{2}$ $\\neq$ 1"
      ]
    },
    {
      "cell_type": "markdown",
      "metadata": {
        "id": "bG6Bc8i3aHfB"
      },
      "source": [
        "- คำนวณค่า F_cal"
      ]
    },
    {
      "cell_type": "code",
      "execution_count": 42,
      "metadata": {
        "id": "ng7XYH-k6_k7"
      },
      "outputs": [
        {
          "data": {
            "text/plain": [
              "2.7670725493788155"
            ]
          },
          "execution_count": 42,
          "metadata": {},
          "output_type": "execute_result"
        }
      ],
      "source": [
        "v_near = np.var(near_mrt, ddof=1)\n",
        "v_far = np.var(far_mrt, ddof=1)\n",
        "\n",
        "f_cal = v_near/v_far\n",
        "f_cal\n"
      ]
    },
    {
      "cell_type": "markdown",
      "metadata": {
        "id": "u7xzVzYjaPWf"
      },
      "source": [
        "- คำนวณค่า F_crit"
      ]
    },
    {
      "cell_type": "code",
      "execution_count": 43,
      "metadata": {
        "id": "CqLE-kin9grw"
      },
      "outputs": [
        {
          "data": {
            "text/plain": [
              "(0.6849629193144439, 1.4684514432448335)"
            ]
          },
          "execution_count": 43,
          "metadata": {},
          "output_type": "execute_result"
        }
      ],
      "source": [
        "dfn = df.price[df.mrt_dist < 300].size\n",
        "dfd = df.price[df.mrt_dist > 1500].size\n",
        "\n",
        "f_crit_left = stats.f.ppf(0.05/2,\n",
        "                          dfn=dfn,\n",
        "                          dfd=dfd)\n",
        "f_crit_right = stats.f.isf(0.05/2,\n",
        "                           dfn=dfn,\n",
        "                           dfd=dfd)\n",
        "\n",
        "f_crit_left, f_crit_right"
      ]
    },
    {
      "cell_type": "markdown",
      "metadata": {
        "id": "UspZAtPGaYck"
      },
      "source": [
        "- คำนวณค่า p-value"
      ]
    },
    {
      "cell_type": "code",
      "execution_count": 44,
      "metadata": {
        "id": "7xJmpc-e-JeK"
      },
      "outputs": [
        {
          "data": {
            "text/plain": [
              "3.937510699650679e-07"
            ]
          },
          "execution_count": 44,
          "metadata": {},
          "output_type": "execute_result"
        }
      ],
      "source": [
        "p_val = 2*min(stats.f.sf(f_cal, dfn=dfn, dfd=dfd), stats.f.cdf(f_cal, dfn=dfn, dfd=dfd))\n",
        "p_val"
      ]
    },
    {
      "cell_type": "markdown",
      "metadata": {
        "id": "74N_7vW5aoix"
      },
      "source": [
        "- สรุปผล"
      ]
    },
    {
      "cell_type": "markdown",
      "metadata": {
        "id": "mFXkp1EQa2sK"
      },
      "source": [
        "**ค่า p-val $\\le$ 0.05 ปฏิเสธ $H_{0}$ และยอมรับ $H_{1}$ นั่นคือ ค่าความแปรปรวนราคาของกลุ่มที่อยู่อาศัยที่มีระยะห่างจากสถานี mrt น้อยกว่า 300 เมตร แตกต่างจากค่าความแปรปรวนราคาของกลุ่มที่อยู่อาศัยที่มีระยะห่างจากสถานี mrt มากกว่า 1500 เมตร อย่างมีนัยสำคัญ**"
      ]
    },
    {
      "cell_type": "markdown",
      "metadata": {
        "id": "skQWKIGLDwem"
      },
      "source": [
        "\\\n",
        "- การสลับตัวตั้งตัวหารส่งผลต่อการวิเคราะห์หรือไม่?"
      ]
    },
    {
      "cell_type": "code",
      "execution_count": 45,
      "metadata": {
        "id": "8IFJRMP5Dsxn"
      },
      "outputs": [
        {
          "data": {
            "text/plain": [
              "0.36139276515337176"
            ]
          },
          "execution_count": 45,
          "metadata": {},
          "output_type": "execute_result"
        }
      ],
      "source": [
        "f_cal = v_far/v_near\n",
        "f_cal"
      ]
    },
    {
      "cell_type": "code",
      "execution_count": 46,
      "metadata": {
        "id": "VNtybl7bDsq1"
      },
      "outputs": [
        {
          "data": {
            "text/plain": [
              "(0.680989490391526, 1.4599330442600689)"
            ]
          },
          "execution_count": 46,
          "metadata": {},
          "output_type": "execute_result"
        }
      ],
      "source": [
        "dfn = df.price[df.mrt_dist > 1500].size\n",
        "dfd = df.price[df.mrt_dist < 300].size\n",
        "\n",
        "f_crit_left = stats.f.ppf(0.05/2,\n",
        "                          dfn=dfn,\n",
        "                          dfd=dfd)\n",
        "f_crit_right = stats.f.isf(0.05/2,\n",
        "                           dfn=dfn,\n",
        "                           dfd=dfd)\n",
        "\n",
        "f_crit_left, f_crit_right"
      ]
    },
    {
      "cell_type": "code",
      "execution_count": 47,
      "metadata": {
        "id": "3KmvBjaTDsju"
      },
      "outputs": [
        {
          "data": {
            "text/plain": [
              "3.937510699650679e-07"
            ]
          },
          "execution_count": 47,
          "metadata": {},
          "output_type": "execute_result"
        }
      ],
      "source": [
        "p_val = 2*min(stats.f.sf(f_cal, dfn=dfn, dfd=dfd), stats.f.cdf(f_cal, dfn=dfn, dfd=dfd))\n",
        "p_val"
      ]
    },
    {
      "cell_type": "code",
      "execution_count": null,
      "metadata": {
        "id": "UHbCheaKFWdO"
      },
      "outputs": [],
      "source": []
    },
    {
      "cell_type": "code",
      "execution_count": null,
      "metadata": {},
      "outputs": [],
      "source": []
    }
  ],
  "metadata": {
    "colab": {
      "provenance": []
    },
    "kernelspec": {
      "display_name": "Python 3",
      "name": "python3"
    },
    "language_info": {
      "codemirror_mode": {
        "name": "ipython",
        "version": 3
      },
      "file_extension": ".py",
      "mimetype": "text/x-python",
      "name": "python",
      "nbconvert_exporter": "python",
      "pygments_lexer": "ipython3",
      "version": "3.11.5"
    }
  },
  "nbformat": 4,
  "nbformat_minor": 0
}
