{
  "nbformat": 4,
  "nbformat_minor": 0,
  "metadata": {
    "colab": {
      "provenance": []
    },
    "kernelspec": {
      "name": "python3",
      "display_name": "Python 3"
    },
    "language_info": {
      "name": "python"
    }
  },
  "cells": [
    {
      "cell_type": "markdown",
      "source": [
        "**จากแบบทดสอบ 9.4**"
      ],
      "metadata": {
        "id": "nt4VZUer3U3b"
      }
    },
    {
      "cell_type": "code",
      "execution_count": null,
      "metadata": {
        "id": "UxdLE2-z24u3"
      },
      "outputs": [],
      "source": [
        "import numpy as np\n",
        "import pandas as pd\n",
        "from scipy import stats"
      ]
    },
    {
      "cell_type": "code",
      "source": [
        "O = np.array([0,28,32,35,20,10,0])\n",
        "X_l = np.array([-np.inf,44.95,46.95,48.95,50.95,52.95,54.95])\n",
        "X_r = np.array([44.95,46.95,48.95,50.95,52.95,54.95,np.inf])\n",
        "x = (X_l+X_r)/2\n",
        "x"
      ],
      "metadata": {
        "colab": {
          "base_uri": "https://localhost:8080/"
        },
        "id": "kRjsFWC32-dT",
        "outputId": "0ad029fa-ad29-4101-b385-bbaaebb00d59"
      },
      "execution_count": null,
      "outputs": [
        {
          "output_type": "execute_result",
          "data": {
            "text/plain": [
              "array([ -inf, 45.95, 47.95, 49.95, 51.95, 53.95,   inf])"
            ]
          },
          "metadata": {},
          "execution_count": 2
        }
      ]
    },
    {
      "cell_type": "markdown",
      "source": [
        "\\\n",
        "***หาค่าเฉลี่ย x_bar:***"
      ],
      "metadata": {
        "id": "XK5gPSnxEov6"
      }
    },
    {
      "cell_type": "code",
      "source": [
        "x_bar = sum(O[1:-1]*x[1:-1])/125\n",
        "x_bar"
      ],
      "metadata": {
        "colab": {
          "base_uri": "https://localhost:8080/"
        },
        "outputId": "4d2b082b-406f-4aed-fcd8-8a89d43b6b2b",
        "id": "Ex5mJn8ZEov6"
      },
      "execution_count": null,
      "outputs": [
        {
          "output_type": "execute_result",
          "data": {
            "text/plain": [
              "49.182"
            ]
          },
          "metadata": {},
          "execution_count": 3
        }
      ]
    },
    {
      "cell_type": "markdown",
      "source": [
        "ทำไมต้องใช้ index 1:-1 ?"
      ],
      "metadata": {
        "id": "Wm9oRmQZE_Cx"
      }
    },
    {
      "cell_type": "code",
      "source": [
        "sum(O*x)/125"
      ],
      "metadata": {
        "colab": {
          "base_uri": "https://localhost:8080/"
        },
        "outputId": "d9a3f20e-bfba-4985-aa36-abf22975355a",
        "id": "v-FIMt43Eov7"
      },
      "execution_count": null,
      "outputs": [
        {
          "output_type": "stream",
          "name": "stderr",
          "text": [
            "<ipython-input-4-0541b337a504>:1: RuntimeWarning: invalid value encountered in multiply\n",
            "  sum(O*x)/125\n"
          ]
        },
        {
          "output_type": "execute_result",
          "data": {
            "text/plain": [
              "nan"
            ]
          },
          "metadata": {},
          "execution_count": 4
        }
      ]
    },
    {
      "cell_type": "code",
      "source": [
        "0*np.inf"
      ],
      "metadata": {
        "colab": {
          "base_uri": "https://localhost:8080/"
        },
        "outputId": "3656feff-b4d7-45ff-c17e-28c104b93c18",
        "id": "mVB43IFnEov7"
      },
      "execution_count": null,
      "outputs": [
        {
          "output_type": "execute_result",
          "data": {
            "text/plain": [
              "nan"
            ]
          },
          "metadata": {},
          "execution_count": 24
        }
      ]
    },
    {
      "cell_type": "markdown",
      "source": [
        "\\\n",
        "***หาค่าส่วนเบี่ยงเบนมาตราฐาน s:***"
      ],
      "metadata": {
        "id": "an9Med6wEz7V"
      }
    },
    {
      "cell_type": "code",
      "source": [
        "s = np.sqrt(sum(O[1:-1]*(x[1:-1]-x_bar)**2 )/(125-1))\n",
        "s"
      ],
      "metadata": {
        "colab": {
          "base_uri": "https://localhost:8080/"
        },
        "outputId": "29d15ff4-925f-4b28-848d-8ddbc292a9b2",
        "id": "ZqD09z6DEz7V"
      },
      "execution_count": null,
      "outputs": [
        {
          "output_type": "execute_result",
          "data": {
            "text/plain": [
              "2.4466435204436774"
            ]
          },
          "metadata": {},
          "execution_count": 23
        }
      ]
    },
    {
      "cell_type": "markdown",
      "source": [
        "\\\n",
        "***หาค่า P(Z):***"
      ],
      "metadata": {
        "id": "B0HNVWwGE1PK"
      }
    },
    {
      "cell_type": "code",
      "source": [
        "z_l = (X_l-x_bar)/s\n",
        "z_r = (X_r-x_bar)/s\n",
        "PZ = stats.norm.cdf(z_r)-stats.norm.cdf(z_l)\n",
        "PZ"
      ],
      "metadata": {
        "colab": {
          "base_uri": "https://localhost:8080/"
        },
        "id": "nkqJyap62-pV",
        "outputId": "a0579853-4325-4f92-e4df-dd91aeebd44f"
      },
      "execution_count": null,
      "outputs": [
        {
          "output_type": "execute_result",
          "data": {
            "text/plain": [
              "array([0.04184046, 0.13897279, 0.28141415, 0.30281673, 0.17318412,\n",
              "       0.05257292, 0.00919884])"
            ]
          },
          "metadata": {},
          "execution_count": 7
        }
      ]
    },
    {
      "cell_type": "markdown",
      "source": [
        "\\\n",
        "***พิจารณา P(Z) ที่ชั้นแรก:***"
      ],
      "metadata": {
        "id": "9aB-jJTD4Phf"
      }
    },
    {
      "cell_type": "code",
      "source": [
        "PZ[0]"
      ],
      "metadata": {
        "colab": {
          "base_uri": "https://localhost:8080/"
        },
        "id": "plTWQqNS34ab",
        "outputId": "b71c3ed2-05bb-418f-c109-bef90de7587c"
      },
      "execution_count": null,
      "outputs": [
        {
          "output_type": "execute_result",
          "data": {
            "text/plain": [
              "0.041840457456473"
            ]
          },
          "metadata": {},
          "execution_count": 11
        }
      ]
    },
    {
      "cell_type": "code",
      "source": [
        "z_r[0], z_l[0]"
      ],
      "metadata": {
        "colab": {
          "base_uri": "https://localhost:8080/"
        },
        "id": "kL0oON602-ux",
        "outputId": "97b67423-fe71-4d13-eb62-a9c3f0d0677f"
      },
      "execution_count": null,
      "outputs": [
        {
          "output_type": "execute_result",
          "data": {
            "text/plain": [
              "(-1.729716636133638, -inf)"
            ]
          },
          "metadata": {},
          "execution_count": 18
        }
      ]
    },
    {
      "cell_type": "code",
      "source": [
        "stats.norm.cdf(z_r[0])"
      ],
      "metadata": {
        "colab": {
          "base_uri": "https://localhost:8080/"
        },
        "id": "c0TarpLe40bX",
        "outputId": "17f4e687-b829-45f5-b938-741d6d98d90b"
      },
      "execution_count": null,
      "outputs": [
        {
          "output_type": "execute_result",
          "data": {
            "text/plain": [
              "0.041840457456473"
            ]
          },
          "metadata": {},
          "execution_count": 12
        }
      ]
    },
    {
      "cell_type": "code",
      "source": [
        "stats.norm.cdf(z_l[0])"
      ],
      "metadata": {
        "colab": {
          "base_uri": "https://localhost:8080/"
        },
        "id": "I9MDwLkY2-sl",
        "outputId": "3aa002be-35db-494b-887c-56dc7246918d"
      },
      "execution_count": null,
      "outputs": [
        {
          "output_type": "execute_result",
          "data": {
            "text/plain": [
              "0.0"
            ]
          },
          "metadata": {},
          "execution_count": 10
        }
      ]
    },
    {
      "cell_type": "markdown",
      "source": [
        "\\\n",
        "***พิจารณา หา P(Z) ที่ชั้นสุดท้าย:***"
      ],
      "metadata": {
        "id": "agBkEtnY5PjL"
      }
    },
    {
      "cell_type": "code",
      "source": [
        "PZ[-1]"
      ],
      "metadata": {
        "colab": {
          "base_uri": "https://localhost:8080/"
        },
        "id": "Tf__Nwpk2-xu",
        "outputId": "d1b7b6c2-8bc5-48b4-c4cb-1cf8d93b9439"
      },
      "execution_count": null,
      "outputs": [
        {
          "output_type": "execute_result",
          "data": {
            "text/plain": [
              "0.009198843844202442"
            ]
          },
          "metadata": {},
          "execution_count": 19
        }
      ]
    },
    {
      "cell_type": "code",
      "source": [
        "z_r[-1], z_l[-1]"
      ],
      "metadata": {
        "colab": {
          "base_uri": "https://localhost:8080/"
        },
        "outputId": "09cd0c4e-7de2-474f-9926-e8a3adbee3a7",
        "id": "0zpD9gKR6Kjz"
      },
      "execution_count": null,
      "outputs": [
        {
          "output_type": "execute_result",
          "data": {
            "text/plain": [
              "(inf, 2.3575154908362066)"
            ]
          },
          "metadata": {},
          "execution_count": 20
        }
      ]
    },
    {
      "cell_type": "code",
      "source": [
        "stats.norm.cdf(z_r[-1])"
      ],
      "metadata": {
        "colab": {
          "base_uri": "https://localhost:8080/"
        },
        "id": "uulLRn8V2-00",
        "outputId": "fc423e8b-ec51-4537-f9e5-0d67ca92336b"
      },
      "execution_count": null,
      "outputs": [
        {
          "output_type": "execute_result",
          "data": {
            "text/plain": [
              "1.0"
            ]
          },
          "metadata": {},
          "execution_count": 15
        }
      ]
    },
    {
      "cell_type": "code",
      "source": [
        "stats.norm.cdf(z_l[-1])"
      ],
      "metadata": {
        "colab": {
          "base_uri": "https://localhost:8080/"
        },
        "id": "CWK1qgqT5WJA",
        "outputId": "6d53e69e-1a93-48db-8b55-924e1aefb820"
      },
      "execution_count": null,
      "outputs": [
        {
          "output_type": "execute_result",
          "data": {
            "text/plain": [
              "0.9908011561557976"
            ]
          },
          "metadata": {},
          "execution_count": 16
        }
      ]
    },
    {
      "cell_type": "markdown",
      "source": [
        "\\\n",
        "***หาค่า E:***"
      ],
      "metadata": {
        "id": "RVUfdt4vFxs-"
      }
    },
    {
      "cell_type": "code",
      "source": [
        "E = 125*PZ\n",
        "E"
      ],
      "metadata": {
        "colab": {
          "base_uri": "https://localhost:8080/"
        },
        "id": "wEl3OcbVERf0",
        "outputId": "b7f3c740-9a97-4f46-896b-2ffe079ed6ab"
      },
      "execution_count": null,
      "outputs": [
        {
          "output_type": "execute_result",
          "data": {
            "text/plain": [
              "array([ 5.23005718, 17.37159856, 35.17676889, 37.85209069, 21.64801473,\n",
              "        6.57161447,  1.14985548])"
            ]
          },
          "metadata": {},
          "execution_count": 25
        }
      ]
    },
    {
      "cell_type": "markdown",
      "source": [
        "\\\n",
        "***รวมชั้นที่มีค่า E < 5 เข้ากับชั้นใกล้เคียง:***"
      ],
      "metadata": {
        "id": "cq81wLcZGBP_"
      }
    },
    {
      "cell_type": "code",
      "source": [
        "E_adj = np.append(E[0:-2], E[-1]+E[-2])\n",
        "O_adj = np.append(O[0:-2], O[-1]+O[-2])"
      ],
      "metadata": {
        "id": "bPRFuVl0FeLF"
      },
      "execution_count": null,
      "outputs": []
    },
    {
      "cell_type": "code",
      "source": [
        "E_adj"
      ],
      "metadata": {
        "colab": {
          "base_uri": "https://localhost:8080/"
        },
        "id": "MuSE9hjLFeOF",
        "outputId": "6cf4baf9-e12a-4acf-efc1-226c9eeae638"
      },
      "execution_count": null,
      "outputs": [
        {
          "output_type": "execute_result",
          "data": {
            "text/plain": [
              "array([ 5.23005718, 17.37159856, 35.17676889, 37.85209069, 21.64801473,\n",
              "        7.72146995])"
            ]
          },
          "metadata": {},
          "execution_count": 27
        }
      ]
    },
    {
      "cell_type": "code",
      "source": [
        "O_adj"
      ],
      "metadata": {
        "colab": {
          "base_uri": "https://localhost:8080/"
        },
        "id": "FX5voMgNGPiT",
        "outputId": "030d755c-a2b1-407a-a199-97c661266d12"
      },
      "execution_count": null,
      "outputs": [
        {
          "output_type": "execute_result",
          "data": {
            "text/plain": [
              "array([ 0, 28, 32, 35, 20, 10])"
            ]
          },
          "metadata": {},
          "execution_count": 28
        }
      ]
    },
    {
      "cell_type": "markdown",
      "source": [
        "\\\n",
        "***หาค่า chi2_cal:***"
      ],
      "metadata": {
        "id": "3_fbt0L7Hatf"
      }
    },
    {
      "cell_type": "code",
      "source": [
        "chi2_cal = sum((O_adj-E_adj)**2/E_adj)\n",
        "chi2_cal"
      ],
      "metadata": {
        "colab": {
          "base_uri": "https://localhost:8080/"
        },
        "id": "q23Gr5WjGRvL",
        "outputId": "c8be05a1-973c-44e1-f179-08bd7ecbd6c1"
      },
      "execution_count": null,
      "outputs": [
        {
          "output_type": "execute_result",
          "data": {
            "text/plain": [
              "13.032414699934208"
            ]
          },
          "metadata": {},
          "execution_count": 29
        }
      ]
    },
    {
      "cell_type": "markdown",
      "source": [
        "\\\n",
        "***หาค่า chi2_crit:***"
      ],
      "metadata": {
        "id": "ICGJiSp8IhFS"
      }
    },
    {
      "cell_type": "code",
      "source": [
        "chi2_crit = stats.chi2.isf(0.05,df=3)\n",
        "chi2_crit"
      ],
      "metadata": {
        "colab": {
          "base_uri": "https://localhost:8080/"
        },
        "id": "ZZgn1iPQJA0U",
        "outputId": "c7cd9aa5-3bb5-46a1-ed6f-dbef79f031ba"
      },
      "execution_count": null,
      "outputs": [
        {
          "output_type": "execute_result",
          "data": {
            "text/plain": [
              "7.814727903251178"
            ]
          },
          "metadata": {},
          "execution_count": 31
        }
      ]
    },
    {
      "cell_type": "markdown",
      "source": [
        "chi2_cal อยู่ในบริเวณวิกฤต ดังนั้นจึงต้องปฏิเสธ H0 และยอมรับ H1 คือ ข้อมูลความยาวของทารกแรกเกิดไม่ได้มีการแจกแจงแบบปกติ"
      ],
      "metadata": {
        "id": "YrfbsNaYKLgH"
      }
    },
    {
      "cell_type": "markdown",
      "source": [
        "\\\n",
        "***หาค่า p-value:***"
      ],
      "metadata": {
        "id": "kas5dOjbJMYk"
      }
    },
    {
      "cell_type": "code",
      "source": [
        "p_val = stats.chi2.sf(chi2_cal, df = 3)\n",
        "p_val"
      ],
      "metadata": {
        "colab": {
          "base_uri": "https://localhost:8080/"
        },
        "id": "fUmFCxrMGS2T",
        "outputId": "ff12d772-1f81-4b47-b9b3-6115f49b2664"
      },
      "execution_count": null,
      "outputs": [
        {
          "output_type": "execute_result",
          "data": {
            "text/plain": [
              "0.004567028584983044"
            ]
          },
          "metadata": {},
          "execution_count": 30
        }
      ]
    },
    {
      "cell_type": "markdown",
      "source": [
        "p-value < 0.05 จึง ต้องปฏิเสธ H0 และยอมรับ H1 คือ ข้อมูลความยาวของทารกแรกเกิดไม่ได้มีการแจกแจงแบบปกติ\n"
      ],
      "metadata": {
        "id": "eOwnDNkiKFLf"
      }
    },
    {
      "cell_type": "markdown",
      "source": [
        "\\\n",
        "***ใช้ฟังก์ชันลัดจาก library scipy.chisquare:***"
      ],
      "metadata": {
        "id": "0GqTasYuLa4h"
      }
    },
    {
      "cell_type": "code",
      "source": [
        "chi2_cal, p_val = stats.chisquare(f_obs=O_adj,\n",
        "                                  f_exp=E_adj,\n",
        "                                  ddof=2)"
      ],
      "metadata": {
        "id": "vmiz44lIGSzh"
      },
      "execution_count": null,
      "outputs": []
    },
    {
      "cell_type": "code",
      "source": [
        "chi2_cal, p_val"
      ],
      "metadata": {
        "colab": {
          "base_uri": "https://localhost:8080/"
        },
        "id": "4wB56GQ1GSxX",
        "outputId": "3d333e97-de7c-4fd5-be3b-ab4748cf0bf0"
      },
      "execution_count": null,
      "outputs": [
        {
          "output_type": "execute_result",
          "data": {
            "text/plain": [
              "(13.032414699934208, 0.004567028584983044)"
            ]
          },
          "metadata": {},
          "execution_count": 33
        }
      ]
    },
    {
      "cell_type": "code",
      "source": [],
      "metadata": {
        "id": "psJTI9YSGSuK"
      },
      "execution_count": null,
      "outputs": []
    },
    {
      "cell_type": "code",
      "source": [],
      "metadata": {
        "id": "yM2SNa-5GSro"
      },
      "execution_count": null,
      "outputs": []
    },
    {
      "cell_type": "code",
      "source": [],
      "metadata": {
        "id": "p_YihTw9GSoy"
      },
      "execution_count": null,
      "outputs": []
    },
    {
      "cell_type": "code",
      "source": [],
      "metadata": {
        "id": "RVs5kwLpGSmT"
      },
      "execution_count": null,
      "outputs": []
    },
    {
      "cell_type": "code",
      "source": [],
      "metadata": {
        "id": "MuZZCR6wGSjr"
      },
      "execution_count": null,
      "outputs": []
    },
    {
      "cell_type": "code",
      "source": [],
      "metadata": {
        "id": "R7HjrFotGShB"
      },
      "execution_count": null,
      "outputs": []
    }
  ]
}