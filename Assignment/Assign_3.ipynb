{
  "cells": [
    {
      "cell_type": "markdown",
      "metadata": {
        "id": "U3ArbMi8JHGD"
      },
      "source": [
        "# แบบฝึกหัด 3"
      ]
    },
    {
      "cell_type": "markdown",
      "metadata": {
        "id": "t9RQYuu-JUwP"
      },
      "source": [
        "---"
      ]
    },
    {
      "cell_type": "code",
      "execution_count": 23,
      "metadata": {
        "id": "5LcuhePsgM1w"
      },
      "outputs": [],
      "source": [
        "import numpy as np\n",
        "import pandas as pd\n",
        "import statistics\n",
        "import math"
      ]
    },
    {
      "cell_type": "markdown",
      "metadata": {
        "id": "uoKssbJRv2Xu"
      },
      "source": [
        "###  "
      ]
    },
    {
      "cell_type": "markdown",
      "metadata": {
        "id": "O-jANK7-JY2X"
      },
      "source": [
        "3.1 บริษัทให้บริการด้าน IT ครบวงจรแห่งหนึ่งได้เก็บรวบรวมข้อมูลค่าซ่อมบำรุงอุปกรณ์คอมพิวเตอร์แม่ข่ายและจำนวนลูกค้าของบริษัทในปีที่ผ่านมาเป็นดังไฟล์ ex3_1_itcost.csv  \n",
        "จงแสดงวิธีหาค่ามัธยฐานและฐานนิยมของค่าซ่อมบำรุงอุปกรณ์คอมพิวเตอร์แม่ข่าย"
      ]
    },
    {
      "cell_type": "code",
      "execution_count": 24,
      "metadata": {
        "colab": {
          "base_uri": "https://localhost:8080/",
          "height": 206
        },
        "id": "HVfgMVlcI_hm",
        "outputId": "a2676941-9a96-4bc5-f153-75a0da03a182"
      },
      "outputs": [
        {
          "data": {
            "text/html": [
              "<div>\n",
              "<style scoped>\n",
              "    .dataframe tbody tr th:only-of-type {\n",
              "        vertical-align: middle;\n",
              "    }\n",
              "\n",
              "    .dataframe tbody tr th {\n",
              "        vertical-align: top;\n",
              "    }\n",
              "\n",
              "    .dataframe thead th {\n",
              "        text-align: right;\n",
              "    }\n",
              "</style>\n",
              "<table border=\"1\" class=\"dataframe\">\n",
              "  <thead>\n",
              "    <tr style=\"text-align: right;\">\n",
              "      <th></th>\n",
              "      <th>maintenance_cost</th>\n",
              "      <th>num_customer</th>\n",
              "    </tr>\n",
              "  </thead>\n",
              "  <tbody>\n",
              "    <tr>\n",
              "      <th>0</th>\n",
              "      <td>&lt;=5000</td>\n",
              "      <td>33</td>\n",
              "    </tr>\n",
              "    <tr>\n",
              "      <th>1</th>\n",
              "      <td>5001-10000</td>\n",
              "      <td>41</td>\n",
              "    </tr>\n",
              "    <tr>\n",
              "      <th>2</th>\n",
              "      <td>10001-15000</td>\n",
              "      <td>20</td>\n",
              "    </tr>\n",
              "    <tr>\n",
              "      <th>3</th>\n",
              "      <td>15001-20000</td>\n",
              "      <td>17</td>\n",
              "    </tr>\n",
              "    <tr>\n",
              "      <th>4</th>\n",
              "      <td>20001-25000</td>\n",
              "      <td>10</td>\n",
              "    </tr>\n",
              "    <tr>\n",
              "      <th>5</th>\n",
              "      <td>25001-30000</td>\n",
              "      <td>16</td>\n",
              "    </tr>\n",
              "    <tr>\n",
              "      <th>6</th>\n",
              "      <td>&gt;=30001</td>\n",
              "      <td>5</td>\n",
              "    </tr>\n",
              "  </tbody>\n",
              "</table>\n",
              "</div>"
            ],
            "text/plain": [
              "  maintenance_cost  num_customer\n",
              "0           <=5000            33\n",
              "1       5001-10000            41\n",
              "2      10001-15000            20\n",
              "3      15001-20000            17\n",
              "4      20001-25000            10\n",
              "5      25001-30000            16\n",
              "6          >=30001             5"
            ]
          },
          "execution_count": 24,
          "metadata": {},
          "output_type": "execute_result"
        }
      ],
      "source": [
        "df_it = pd.read_csv('https://raw.githubusercontent.com/ThammakornS/ProgStat/main/dataset/asm3_1_itcost.csv')\n",
        "df_it"
      ]
    },
    {
      "cell_type": "code",
      "execution_count": 25,
      "metadata": {
        "id": "7TwxeuVW96Ma"
      },
      "outputs": [
        {
          "data": {
            "text/html": [
              "<div>\n",
              "<style scoped>\n",
              "    .dataframe tbody tr th:only-of-type {\n",
              "        vertical-align: middle;\n",
              "    }\n",
              "\n",
              "    .dataframe tbody tr th {\n",
              "        vertical-align: top;\n",
              "    }\n",
              "\n",
              "    .dataframe thead th {\n",
              "        text-align: right;\n",
              "    }\n",
              "</style>\n",
              "<table border=\"1\" class=\"dataframe\">\n",
              "  <thead>\n",
              "    <tr style=\"text-align: right;\">\n",
              "      <th></th>\n",
              "      <th>maintenance_cost</th>\n",
              "      <th>num_customer</th>\n",
              "      <th>c_from</th>\n",
              "      <th>c_to</th>\n",
              "    </tr>\n",
              "  </thead>\n",
              "  <tbody>\n",
              "    <tr>\n",
              "      <th>0</th>\n",
              "      <td>&lt;=5000</td>\n",
              "      <td>33</td>\n",
              "      <td>0</td>\n",
              "      <td>5000</td>\n",
              "    </tr>\n",
              "    <tr>\n",
              "      <th>1</th>\n",
              "      <td>5001-10000</td>\n",
              "      <td>41</td>\n",
              "      <td>5001</td>\n",
              "      <td>10000</td>\n",
              "    </tr>\n",
              "    <tr>\n",
              "      <th>2</th>\n",
              "      <td>10001-15000</td>\n",
              "      <td>20</td>\n",
              "      <td>10001</td>\n",
              "      <td>15000</td>\n",
              "    </tr>\n",
              "    <tr>\n",
              "      <th>3</th>\n",
              "      <td>15001-20000</td>\n",
              "      <td>17</td>\n",
              "      <td>15001</td>\n",
              "      <td>20000</td>\n",
              "    </tr>\n",
              "    <tr>\n",
              "      <th>4</th>\n",
              "      <td>20001-25000</td>\n",
              "      <td>10</td>\n",
              "      <td>20001</td>\n",
              "      <td>25000</td>\n",
              "    </tr>\n",
              "    <tr>\n",
              "      <th>5</th>\n",
              "      <td>25001-30000</td>\n",
              "      <td>16</td>\n",
              "      <td>25001</td>\n",
              "      <td>30000</td>\n",
              "    </tr>\n",
              "    <tr>\n",
              "      <th>6</th>\n",
              "      <td>&gt;=30001</td>\n",
              "      <td>5</td>\n",
              "      <td>30001</td>\n",
              "      <td>0</td>\n",
              "    </tr>\n",
              "  </tbody>\n",
              "</table>\n",
              "</div>"
            ],
            "text/plain": [
              "  maintenance_cost  num_customer  c_from   c_to\n",
              "0           <=5000            33       0   5000\n",
              "1       5001-10000            41    5001  10000\n",
              "2      10001-15000            20   10001  15000\n",
              "3      15001-20000            17   15001  20000\n",
              "4      20001-25000            10   20001  25000\n",
              "5      25001-30000            16   25001  30000\n",
              "6          >=30001             5   30001      0"
            ]
          },
          "execution_count": 25,
          "metadata": {},
          "output_type": "execute_result"
        }
      ],
      "source": [
        "#your code\n",
        "def change(x):\n",
        "    if x == None:\n",
        "        return 0\n",
        "    if '<=' in x:\n",
        "        return int(x.replace('<=',''))\n",
        "    elif '>=' in x: \n",
        "        return int(x.replace('>=',''))\n",
        "    return int(x)\n",
        "\n",
        "df_it[[\"c_from\",\"c_to\"]] = df_it.maintenance_cost.str.split('-',expand=True) \n",
        "df_it.c_from = df_it.c_from.apply(change)\n",
        "df_it.c_to = df_it.c_to.apply(change)\n",
        "\n",
        "df_it.iloc[0,[2,3]] = df_it.iloc[0,[3,2]]\n",
        "df_it"
      ]
    },
    {
      "cell_type": "code",
      "execution_count": 26,
      "metadata": {},
      "outputs": [
        {
          "name": "stdout",
          "output_type": "stream",
          "text": [
            "  maintenance_cost  num_customer  c_from   c_to  num_customer_cum\n",
            "0           <=5000            33       0   5000                33\n",
            "1       5001-10000            41    5001  10000                74\n",
            "2      10001-15000            20   10001  15000                94\n",
            "3      15001-20000            17   15001  20000               111\n",
            "4      20001-25000            10   20001  25000               121\n",
            "5      25001-30000            16   25001  30000               137\n",
            "6          >=30001             5   30001      0               142\n"
          ]
        },
        {
          "data": {
            "text/plain": [
              "'Median = 9634.65'"
            ]
          },
          "execution_count": 26,
          "metadata": {},
          "output_type": "execute_result"
        }
      ],
      "source": [
        "#your code\n",
        "# cum sum\n",
        "df_it['num_customer_cum'] = df_it['num_customer'].cumsum()\n",
        "\n",
        "med_pos = df_it['num_customer'].sum()/2\n",
        "\n",
        "for i in df_it.index:\n",
        "    if df_it.num_customer_cum[i] >= med_pos:\n",
        "        e = i\n",
        "        break\n",
        "\n",
        "print(df_it)\n",
        "\n",
        "lower_e = (df_it.c_from[e] + df_it.c_to[e-1]) / 2\n",
        "Fb = df_it.num_customer_cum[e-1]\n",
        "Fe = df_it.num_customer[e]\n",
        "i  = (df_it.c_to[e] - df_it.c_from[e])+1\n",
        "median = lower_e + ((med_pos - Fb)/ Fe) * i\n",
        "f\"Median = {median:.2f}\"\n"
      ]
    },
    {
      "cell_type": "code",
      "execution_count": 27,
      "metadata": {},
      "outputs": [
        {
          "data": {
            "text/plain": [
              "'Mode = 6379.81'"
            ]
          },
          "execution_count": 27,
          "metadata": {},
          "output_type": "execute_result"
        }
      ],
      "source": [
        "#your code\n",
        "for i in df_it.index:\n",
        "    if df_it.num_customer[i] == df_it.num_customer.max():\n",
        "        e =i\n",
        "        break\n",
        "\n",
        "Lower_e = (df_it.c_from[e] + df_it.c_to[e-1]) / 2\n",
        "\n",
        "D_e_lower = df_it.num_customer[e] - df_it.num_customer[e-1]\n",
        "D_e_upper = df_it.num_customer[e] - df_it.num_customer[e+1]\n",
        "i = (df_it.c_to[e] - df_it.c_from[e])+1\n",
        "\n",
        "Mode = Lower_e + (D_e_lower/(D_e_lower+D_e_upper))*i\n",
        "f\"Mode = {Mode:.2f}\""
      ]
    },
    {
      "cell_type": "markdown",
      "metadata": {
        "id": "BxG0p9G9-qG2"
      },
      "source": [
        "###   "
      ]
    },
    {
      "cell_type": "markdown",
      "metadata": {
        "id": "JTDVG3rksTto"
      },
      "source": [
        "3.2 สุ่มตัวอย่างนักศึกษามาจำนวนหนึ่ง พบว่าคะแนนสอบวิชาสถิติ เป็นดังตาราง 'ex3_2_score.csv' จงหาค่า"
      ]
    },
    {
      "cell_type": "markdown",
      "metadata": {
        "id": "tGs8uJzvy7AY"
      },
      "source": [
        "**3.2.1 ค่าเฉลี่ย**"
      ]
    },
    {
      "cell_type": "code",
      "execution_count": 28,
      "metadata": {
        "colab": {
          "base_uri": "https://localhost:8080/",
          "height": 206
        },
        "id": "xGfGFa4kvtyH",
        "outputId": "8b46bf09-ece7-4ca2-f464-c4ca3456baef"
      },
      "outputs": [
        {
          "data": {
            "text/html": [
              "<div>\n",
              "<style scoped>\n",
              "    .dataframe tbody tr th:only-of-type {\n",
              "        vertical-align: middle;\n",
              "    }\n",
              "\n",
              "    .dataframe tbody tr th {\n",
              "        vertical-align: top;\n",
              "    }\n",
              "\n",
              "    .dataframe thead th {\n",
              "        text-align: right;\n",
              "    }\n",
              "</style>\n",
              "<table border=\"1\" class=\"dataframe\">\n",
              "  <thead>\n",
              "    <tr style=\"text-align: right;\">\n",
              "      <th></th>\n",
              "      <th>score</th>\n",
              "      <th>num_student</th>\n",
              "    </tr>\n",
              "  </thead>\n",
              "  <tbody>\n",
              "    <tr>\n",
              "      <th>0</th>\n",
              "      <td>11-15</td>\n",
              "      <td>15</td>\n",
              "    </tr>\n",
              "    <tr>\n",
              "      <th>1</th>\n",
              "      <td>16-20</td>\n",
              "      <td>14</td>\n",
              "    </tr>\n",
              "    <tr>\n",
              "      <th>2</th>\n",
              "      <td>21-25</td>\n",
              "      <td>20</td>\n",
              "    </tr>\n",
              "    <tr>\n",
              "      <th>3</th>\n",
              "      <td>26-30</td>\n",
              "      <td>18</td>\n",
              "    </tr>\n",
              "    <tr>\n",
              "      <th>4</th>\n",
              "      <td>31-35</td>\n",
              "      <td>16</td>\n",
              "    </tr>\n",
              "  </tbody>\n",
              "</table>\n",
              "</div>"
            ],
            "text/plain": [
              "   score  num_student\n",
              "0  11-15           15\n",
              "1  16-20           14\n",
              "2  21-25           20\n",
              "3  26-30           18\n",
              "4  31-35           16"
            ]
          },
          "execution_count": 28,
          "metadata": {},
          "output_type": "execute_result"
        }
      ],
      "source": [
        "df_score = pd.read_csv('https://raw.githubusercontent.com/ThammakornS/ProgStat/main/dataset/asm3_2_score.csv')\n",
        "df_score.head()"
      ]
    },
    {
      "cell_type": "code",
      "execution_count": 29,
      "metadata": {
        "id": "pDFVQTNzykLc"
      },
      "outputs": [
        {
          "name": "stdout",
          "output_type": "stream",
          "text": [
            "   score  num_student  score_from  score_to  mid_score(x)     fx\n",
            "0  11-15           15          11        15          13.0  195.0\n",
            "1  16-20           14          16        20          18.0  252.0\n",
            "2  21-25           20          21        25          23.0  460.0\n",
            "3  26-30           18          26        30          28.0  504.0\n",
            "4  31-35           16          31        35          33.0  528.0\n",
            "5  36-40           17          36        40          38.0  646.0\n"
          ]
        },
        {
          "data": {
            "text/plain": [
              "'Mean = 25.85'"
            ]
          },
          "execution_count": 29,
          "metadata": {},
          "output_type": "execute_result"
        }
      ],
      "source": [
        "#your code\n",
        "boundary = df_score['score'].str.split('-',expand=True).astype(int)\n",
        "df_score[['score_from','score_to']] = boundary\n",
        "df_score['mid_score(x)'] = (boundary[0]+boundary[1])/2\n",
        "df_score['fx'] = df_score['num_student'] * df_score['mid_score(x)']\n",
        "Xbar = df_score['fx'].sum() / df_score['num_student'].sum()\n",
        "print(df_score)\n",
        "f\"Mean = {Xbar}\""
      ]
    },
    {
      "cell_type": "markdown",
      "metadata": {
        "id": "HyMa-rkR1ctY"
      },
      "source": [
        "**3.2.2 ค่ามัธยฐาน**"
      ]
    },
    {
      "cell_type": "code",
      "execution_count": 30,
      "metadata": {
        "id": "nEOGj6cF-huH"
      },
      "outputs": [
        {
          "name": "stdout",
          "output_type": "stream",
          "text": [
            "   score  num_student  score_from  score_to  mid_score(x)     fx  \\\n",
            "0  11-15           15          11        15          13.0  195.0   \n",
            "1  16-20           14          16        20          18.0  252.0   \n",
            "2  21-25           20          21        25          23.0  460.0   \n",
            "3  26-30           18          26        30          28.0  504.0   \n",
            "4  31-35           16          31        35          33.0  528.0   \n",
            "5  36-40           17          36        40          38.0  646.0   \n",
            "\n",
            "   num_student_cum  \n",
            "0               15  \n",
            "1               29  \n",
            "2               49  \n",
            "3               67  \n",
            "4               83  \n",
            "5              100  \n"
          ]
        },
        {
          "data": {
            "text/plain": [
              "'Median = 25.78'"
            ]
          },
          "execution_count": 30,
          "metadata": {},
          "output_type": "execute_result"
        }
      ],
      "source": [
        "#your code\n",
        "# cum sum\n",
        "df_score['num_student_cum'] = df_score['num_student'].cumsum()\n",
        "\n",
        "med_pos = df_score['num_student'].sum()/2\n",
        "\n",
        "for i in df_score.index:\n",
        "    if df_score.num_student_cum[i] >= med_pos:\n",
        "        e = i\n",
        "        break\n",
        "\n",
        "lower_e = (df_score.score_from[e] + df_score.score_to[e-1]) / 2\n",
        "\n",
        "print(df_score)\n",
        "Fb = df_score.num_student_cum[e-1]\n",
        "Fe = df_score.num_student[e]\n",
        "i  = (df_score.score_to[e] - df_score.score_from[e])+1\n",
        "median = lower_e + ((med_pos - Fb)/ Fe) * i\n",
        "f\"Median = {median:.2f}\"\n"
      ]
    },
    {
      "cell_type": "markdown",
      "metadata": {
        "id": "zlLBVZ0HcXUZ"
      },
      "source": [
        "**3.2.3 ค่าฐานนิยม**"
      ]
    },
    {
      "cell_type": "code",
      "execution_count": 31,
      "metadata": {
        "id": "lNYzGH_g-mQT"
      },
      "outputs": [
        {
          "data": {
            "text/plain": [
              "'Mode = 24.25'"
            ]
          },
          "execution_count": 31,
          "metadata": {},
          "output_type": "execute_result"
        }
      ],
      "source": [
        "#your code\n",
        "for i in df_score.index:\n",
        "    if df_score.num_student[i] == df_score.num_student.max():\n",
        "        e =i\n",
        "        break\n",
        "\n",
        "Lower_e = (df_score.score_from[e] + df_score.score_to[e-1]) / 2\n",
        "\n",
        "D_e_lower = df_score.num_student[e] - df_score.num_student[e-1]\n",
        "D_e_upper = df_score.num_student[e] - df_score.num_student[e+1]\n",
        "i = (df_score.score_to[e] - df_score.score_from[e])+1\n",
        "\n",
        "Mode = Lower_e + (D_e_lower/(D_e_lower+D_e_upper))*i\n",
        "f\"Mode = {Mode}\""
      ]
    },
    {
      "cell_type": "markdown",
      "metadata": {
        "id": "ONwLjc7wgtn4"
      },
      "source": [
        "**3.2.4 Q<sub>1</sub> และ Q<sub>3</sub>**"
      ]
    },
    {
      "cell_type": "code",
      "execution_count": 32,
      "metadata": {
        "id": "vRq7lL88-xAP"
      },
      "outputs": [
        {
          "data": {
            "text/plain": [
              "'q1 = 19.07 q3 = 33.00'"
            ]
          },
          "execution_count": 32,
          "metadata": {},
          "output_type": "execute_result"
        }
      ],
      "source": [
        "#your code\n",
        "def findPosQDP(r,n,unique):\n",
        "    return (n*r)/unique\n",
        "def findQDPr(unique,r, df):\n",
        "    n = df.num_student.sum()\n",
        "    posQDPr = findPosQDP(r,n,unique)\n",
        "    for i in df.index:\n",
        "        if df.num_student_cum[i] >= posQDPr:\n",
        "            e = i\n",
        "            break\n",
        "    Lower_e = (df.score_from[e] + df.score_to[e-1]) / 2\n",
        "    Fb = df.num_student_cum[e-1]\n",
        "    Fe = df.num_student[e]\n",
        "    i = (df.score_to[e] - df.score_from[e])+1\n",
        "    return Lower_e + ((posQDPr-Fb)/Fe)*i\n",
        "q1 = findQDPr(4,1,df_score)\n",
        "q3 = findQDPr(4,3,df_score)\n",
        "# print(df_score)\n",
        "f\"q1 = {q1:.2f} q3 = {q3:.2f}\"\n",
        "\n",
        "\n",
        "\n"
      ]
    },
    {
      "cell_type": "markdown",
      "metadata": {
        "id": "eauxI2MaguGC"
      },
      "source": [
        "**3.2.5 D<sub>7</sub>**"
      ]
    },
    {
      "cell_type": "code",
      "execution_count": 33,
      "metadata": {
        "id": "IzmNQl-t-3BZ"
      },
      "outputs": [
        {
          "data": {
            "text/plain": [
              "'d7 = 31.44'"
            ]
          },
          "execution_count": 33,
          "metadata": {},
          "output_type": "execute_result"
        }
      ],
      "source": [
        "#your code\n",
        "d7 = findQDPr(10,7,df_score)\n",
        "# print(df_score)\n",
        "f\"d7 = {d7:.2f}\"\n"
      ]
    },
    {
      "cell_type": "markdown",
      "metadata": {
        "id": "ULdnf-dHguZj"
      },
      "source": [
        "**3.2.6 P<sub>75</sub>**"
      ]
    },
    {
      "cell_type": "code",
      "execution_count": 34,
      "metadata": {
        "id": "XkSuR48b-56W"
      },
      "outputs": [
        {
          "data": {
            "text/plain": [
              "'p75 = 33.00'"
            ]
          },
          "execution_count": 34,
          "metadata": {},
          "output_type": "execute_result"
        }
      ],
      "source": [
        "#your code\n",
        "p75 = findQDPr(100,75,df_score)\n",
        "# print(df_score)\n",
        "f\"p75 = {p75:.2f}\""
      ]
    },
    {
      "cell_type": "markdown",
      "metadata": {
        "id": "V8tD6c5Cgu8S"
      },
      "source": [
        "**3.2.7 พิสัย**"
      ]
    },
    {
      "cell_type": "code",
      "execution_count": 35,
      "metadata": {
        "id": "LTk6xNrm-7qZ"
      },
      "outputs": [
        {
          "data": {
            "text/plain": [
              "'Range = 30.00'"
            ]
          },
          "execution_count": 35,
          "metadata": {},
          "output_type": "execute_result"
        }
      ],
      "source": [
        "#your code\n",
        "L_real_lower_min = df_score.score_from.min()-0.5\n",
        "L_real_upper_max = df_score.score_to.max()+0.5\n",
        "Range = L_real_upper_max - L_real_lower_min\n",
        "f\"Range = {Range:.2f}\""
      ]
    },
    {
      "cell_type": "markdown",
      "metadata": {
        "id": "9MkVinDAgvJx"
      },
      "source": [
        "**3.2.8 ส่วนเบี่ยงเบนควอร์ไทล์**"
      ]
    },
    {
      "cell_type": "code",
      "execution_count": 36,
      "metadata": {
        "id": "iG85sDHu-9eP"
      },
      "outputs": [
        {
          "data": {
            "text/plain": [
              "'Q.D. = 6.96'"
            ]
          },
          "execution_count": 36,
          "metadata": {},
          "output_type": "execute_result"
        }
      ],
      "source": [
        "#your code\n",
        "qd = (q3 - q1)/2\n",
        "f\"Q.D. = {qd:.2f}\""
      ]
    },
    {
      "cell_type": "markdown",
      "metadata": {
        "id": "iQ82vURdgvXp"
      },
      "source": [
        "**3.2.9 ส่วนเบี่ยงเบนมาตราฐานและความแปรปรวน**"
      ]
    },
    {
      "cell_type": "code",
      "execution_count": 37,
      "metadata": {
        "id": "3XKKNhKE-_iZ"
      },
      "outputs": [
        {
          "data": {
            "text/plain": [
              "'SD = 8.36 VARIANCE = 69.83'"
            ]
          },
          "execution_count": 37,
          "metadata": {},
          "output_type": "execute_result"
        }
      ],
      "source": [
        "#your code\n",
        "df_score['fx^2'] = df_score.num_student * (df_score['mid_score(x)']**2)\n",
        "n = df_score.num_student.sum()\n",
        "sd = math.sqrt((df_score['fx^2'].sum() - (n*(Xbar**2))) / (n-1))\n",
        "variance = sd**2\n",
        "f\"SD = {sd:.2f} VARIANCE = {variance:.2f}\"\n"
      ]
    },
    {
      "cell_type": "markdown",
      "metadata": {
        "id": "34_0j7kTgvlZ"
      },
      "source": [
        "**3.2.10 สัมประสิทธิ์ของการแปรผัน**"
      ]
    },
    {
      "cell_type": "code",
      "execution_count": 38,
      "metadata": {
        "id": "Av4_wtGo_E_P"
      },
      "outputs": [
        {
          "data": {
            "text/plain": [
              "'C.V. = 32.33%'"
            ]
          },
          "execution_count": 38,
          "metadata": {},
          "output_type": "execute_result"
        }
      ],
      "source": [
        "#your code\n",
        "cv = (sd/Xbar)*100\n",
        "f\"C.V. = {cv:.2f}%\"\n"
      ]
    },
    {
      "cell_type": "markdown",
      "metadata": {
        "id": "UOIZ8YfAT1yH"
      },
      "source": [
        "###   "
      ]
    },
    {
      "cell_type": "markdown",
      "metadata": {
        "id": "yRFqnZpMUMow"
      },
      "source": [
        "3.3 บริษัทเกมแห่งหนึ่งได้ทำการทดสอบ game engine รุ่นใหม่ ในคอมพิวเตอร์ที่มีส่วนประกอบของฮารด์แวร์ต่างๆกัน (เช่น cpu, gpu, ram, ฯลฯ) จำนวน 30 เครื่อง และทำการวัดค่า frames per second (FPS) ได้ผลดังนี้  \n",
        "60.0, 30.2, 33.4, 59.9, 40.1, 25.5, 17.4, 28.6, 45.5, 57.8,  \n",
        "22.5, 50.2, 30.8, 43.1, 50.5, 35.5, 27.4, 29.2, 55.5, 10.2,   \n",
        "32.2, 27.8, 33.8, 53.4, 25.5, 30.4, 36.1, 49.3, 18.6, 50.0   \n",
        "จงคำนวณหาค่าเฉลี่ย, ส่วนเบี่ยงเบนมาตราฐาน, ฐานนิยม, Q<sub>1</sub>, D<sub>3</sub>, P<sub>45</sub> ของค่า FPS ที่ได้จากการทดสอบ"
      ]
    },
    {
      "cell_type": "markdown",
      "metadata": {
        "id": "RrpgMvIVZMAO"
      },
      "source": [
        "ค่าเฉลี่ย:"
      ]
    },
    {
      "cell_type": "code",
      "execution_count": 39,
      "metadata": {
        "id": "nNZsstOK2kWT"
      },
      "outputs": [],
      "source": [
        "fps = [60.0, 30.2, 33.4, 59.9, 40.1, 25.5, 17.4, 28.6, 45.5, 57.8,\n",
        "       22.5, 50.2, 30.8, 43.1, 50.5, 35.5, 27.4, 29.2, 55.5, 10.2,\n",
        "       32.2, 27.8, 33.8, 53.4, 25.5, 30.4, 36.1, 49.3, 18.6, 50.0]"
      ]
    },
    {
      "cell_type": "code",
      "execution_count": 40,
      "metadata": {
        "id": "WNGFpJJZ_Ne_"
      },
      "outputs": [
        {
          "data": {
            "text/plain": [
              "'Mean = 37.01'"
            ]
          },
          "execution_count": 40,
          "metadata": {},
          "output_type": "execute_result"
        }
      ],
      "source": [
        "#your code\n",
        "\n",
        "fps = np.array(fps)\n",
        "mu = fps.mean()\n",
        "f\"Mean = {mu:.2f}\"\n"
      ]
    },
    {
      "cell_type": "markdown",
      "metadata": {
        "id": "9rKC0-TGZ1Jn"
      },
      "source": [
        "ส่วนเบี่ยงเบนมาตราฐาน:"
      ]
    },
    {
      "cell_type": "code",
      "execution_count": 41,
      "metadata": {
        "id": "7c5z5X4n_P-J"
      },
      "outputs": [
        {
          "data": {
            "text/plain": [
              "'SD = 13.28'"
            ]
          },
          "execution_count": 41,
          "metadata": {},
          "output_type": "execute_result"
        }
      ],
      "source": [
        "#your code\n",
        "df_fps = pd.DataFrame({\"fps\": fps})\n",
        "df_fps[\"Xi-Mean^2\"] = (df_fps.fps-mu)**2\n",
        "zigma = math.sqrt(df_fps[\"Xi-Mean^2\"].sum()/df_fps.shape[0])\n",
        "f\"SD = {zigma:.2f}\""
      ]
    },
    {
      "cell_type": "markdown",
      "metadata": {
        "id": "XuKipkyhaKVO"
      },
      "source": [
        "ฐานนิยม:"
      ]
    },
    {
      "cell_type": "code",
      "execution_count": 42,
      "metadata": {
        "id": "epv26Wo-_RRn"
      },
      "outputs": [
        {
          "data": {
            "text/plain": [
              "'Mode = [25.5]'"
            ]
          },
          "execution_count": 42,
          "metadata": {},
          "output_type": "execute_result"
        }
      ],
      "source": [
        "#your code\n",
        "Mode = statistics.multimode(fps)\n",
        "f\"Mode = {Mode}\""
      ]
    },
    {
      "cell_type": "markdown",
      "metadata": {
        "id": "jeBwd1pdaa-T"
      },
      "source": [
        "Q<sub>1</sub>, D<sub>3</sub> และ P<sub>45</sub>:  "
      ]
    },
    {
      "cell_type": "code",
      "execution_count": 43,
      "metadata": {
        "id": "z2iA5ocP_neI"
      },
      "outputs": [
        {
          "data": {
            "text/plain": [
              "'Q1 = 27.70 D3 = 28.78 P45 = 32.13'"
            ]
          },
          "execution_count": 43,
          "metadata": {},
          "output_type": "execute_result"
        }
      ],
      "source": [
        "#your code\n",
        "q1 = np.percentile(fps,25,method=\"weibull\")\n",
        "d3 = np.percentile(fps,30,method=\"weibull\")\n",
        "p45 = np.percentile(fps,45,method=\"weibull\")\n",
        "f\"Q1 = {q1:.2f} D3 = {d3:.2f} P45 = {p45:.2f}\""
      ]
    },
    {
      "cell_type": "markdown",
      "metadata": {
        "id": "rOM3ES47mEaR"
      },
      "source": [
        "###   "
      ]
    },
    {
      "cell_type": "markdown",
      "metadata": {
        "id": "m97H7Z-bmBn5"
      },
      "source": [
        "3.4 หน่วยงานวิจัยแห่งหนึ่งได้รับมอบหมายจากทางรัฐบาลให้ทำการเปรียบเทียบระบบที่ใช้ในการผลิตพลังงานกระแสไฟฟ้าสำหรับนิคมอุตสาหกรรมแห่งหนึ่ง ระบบแรกมีกำลังการผลิตสูงสุด 10,000 เมกะวัตต์ โดยมีค่าเฉลี่ยและส่วนเบี่ยงเบนมาตราฐานของกำลังการผลิตอยู่ที่ 9,000±320 เมกะวัตต์ ระบบที่สองมีกำลังการผลิตสูงสุด 15,000 เมกะวัตต์ โดยมีค่าเฉลี่ยและส่วนเบี่ยงเบนมาตราฐานของกำลังการผลิตอยู่ที่ 14,000±900 เมกะวัตต์ จากข้อมูลนี้ทางสถาบันวิจัยจะสามารถสรุปว่าระบบใดมีกำลังการผลิตที่เที่ยงตรงกว่า\n",
        "\n"
      ]
    },
    {
      "cell_type": "code",
      "execution_count": 44,
      "metadata": {
        "id": "sikR8p5n_uTl"
      },
      "outputs": [
        {
          "data": {
            "text/plain": [
              "'CV1 = 3.56%, CV2 = 6.43%'"
            ]
          },
          "execution_count": 44,
          "metadata": {},
          "output_type": "execute_result"
        }
      ],
      "source": [
        "#your code\n",
        "sd1 = 320\n",
        "sd2 = 900\n",
        "mean1 = 9000\n",
        "mean2 = 14000\n",
        "cv1 = (sd1/mean1)*100\n",
        "cv2 = (sd2/mean2)*100\n",
        "f\"CV1 = {cv1:.2f}%, CV2 = {cv2:.2f}%\""
      ]
    },
    {
      "cell_type": "markdown",
      "metadata": {},
      "source": [
        "สรุปได้ว่า ระบบแรก(CV1) มีกำลังการผลิดที่เที่ยงตรงกว่าระบบที่2(CV2) เพราะมีสัมประสิทธิ์การแปรผันต่ำกว่า\n"
      ]
    }
  ],
  "metadata": {
    "colab": {
      "provenance": []
    },
    "kernelspec": {
      "display_name": "Python 3",
      "name": "python3"
    },
    "language_info": {
      "codemirror_mode": {
        "name": "ipython",
        "version": 3
      },
      "file_extension": ".py",
      "mimetype": "text/x-python",
      "name": "python",
      "nbconvert_exporter": "python",
      "pygments_lexer": "ipython3",
      "version": "3.11.5"
    }
  },
  "nbformat": 4,
  "nbformat_minor": 0
}
